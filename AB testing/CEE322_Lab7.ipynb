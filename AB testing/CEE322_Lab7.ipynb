{
  "nbformat": 4,
  "nbformat_minor": 0,
  "metadata": {
    "colab": {
      "name": "CEE322_Lab7.ipynb",
      "provenance": [],
      "collapsed_sections": [],
      "toc_visible": true
    },
    "kernelspec": {
      "name": "python3",
      "display_name": "Python 3"
    }
  },
  "cells": [
    {
      "cell_type": "markdown",
      "metadata": {
        "id": "IesInThWpVhg"
      },
      "source": [
        "# Lab 7: Confirmatory Data Analysis: AB Testing"
      ]
    },
    {
      "cell_type": "markdown",
      "metadata": {
        "id": "N0XzkqM-pZTw"
      },
      "source": [
        "## Setting"
      ]
    },
    {
      "cell_type": "code",
      "metadata": {
        "id": "NrRZmdB2oo7x",
        "outputId": "edff6108-a6ba-4ae9-d8b0-aea5572fd687",
        "colab": {
          "base_uri": "https://localhost:8080/"
        }
      },
      "source": [
        "from google.colab import drive\n",
        "drive.mount('/content/drive')"
      ],
      "execution_count": 1,
      "outputs": [
        {
          "output_type": "stream",
          "text": [
            "Mounted at /content/drive\n"
          ],
          "name": "stdout"
        }
      ]
    },
    {
      "cell_type": "code",
      "metadata": {
        "id": "62BjFehfpcod",
        "outputId": "ebbb2085-2ded-4e60-e7d1-fa9e0d0ee9cb",
        "colab": {
          "base_uri": "https://localhost:8080/"
        }
      },
      "source": [
        "import pandas as pd\n",
        "import matplotlib.pyplot as plt\n",
        "import numpy as np\n",
        "import statsmodels.api as sm"
      ],
      "execution_count": 2,
      "outputs": [
        {
          "output_type": "stream",
          "text": [
            "/usr/local/lib/python3.6/dist-packages/statsmodels/tools/_testing.py:19: FutureWarning: pandas.util.testing is deprecated. Use the functions in the public API at pandas.testing instead.\n",
            "  import pandas.util.testing as tm\n"
          ],
          "name": "stderr"
        }
      ]
    },
    {
      "cell_type": "markdown",
      "metadata": {
        "id": "9TGBlX8Ypd7b"
      },
      "source": [
        "## EDA"
      ]
    },
    {
      "cell_type": "code",
      "metadata": {
        "id": "zMUcgHzjpfZ1",
        "outputId": "00e4d12c-757f-4f32-d10b-32c3e7a3ec12",
        "colab": {
          "base_uri": "https://localhost:8080/",
          "height": 419
        }
      },
      "source": [
        "df_hob = pd.read_csv('/content/drive/My Drive/CEE322/Lab7/Hoboken.csv', header=0)\n",
        "df_hob"
      ],
      "execution_count": 3,
      "outputs": [
        {
          "output_type": "execute_result",
          "data": {
            "text/html": [
              "<div>\n",
              "<style scoped>\n",
              "    .dataframe tbody tr th:only-of-type {\n",
              "        vertical-align: middle;\n",
              "    }\n",
              "\n",
              "    .dataframe tbody tr th {\n",
              "        vertical-align: top;\n",
              "    }\n",
              "\n",
              "    .dataframe thead th {\n",
              "        text-align: right;\n",
              "    }\n",
              "</style>\n",
              "<table border=\"1\" class=\"dataframe\">\n",
              "  <thead>\n",
              "    <tr style=\"text-align: right;\">\n",
              "      <th></th>\n",
              "      <th>Y</th>\n",
              "      <th>D</th>\n",
              "      <th>Income</th>\n",
              "      <th>Lawn</th>\n",
              "      <th>Members</th>\n",
              "      <th>Owned</th>\n",
              "    </tr>\n",
              "  </thead>\n",
              "  <tbody>\n",
              "    <tr>\n",
              "      <th>0</th>\n",
              "      <td>278.958436</td>\n",
              "      <td>False</td>\n",
              "      <td>50.275071</td>\n",
              "      <td>186.827382</td>\n",
              "      <td>2</td>\n",
              "      <td>1</td>\n",
              "    </tr>\n",
              "    <tr>\n",
              "      <th>1</th>\n",
              "      <td>293.875100</td>\n",
              "      <td>False</td>\n",
              "      <td>65.636335</td>\n",
              "      <td>275.556499</td>\n",
              "      <td>1</td>\n",
              "      <td>1</td>\n",
              "    </tr>\n",
              "    <tr>\n",
              "      <th>2</th>\n",
              "      <td>381.081020</td>\n",
              "      <td>False</td>\n",
              "      <td>68.871837</td>\n",
              "      <td>212.000238</td>\n",
              "      <td>3</td>\n",
              "      <td>0</td>\n",
              "    </tr>\n",
              "    <tr>\n",
              "      <th>3</th>\n",
              "      <td>356.563247</td>\n",
              "      <td>False</td>\n",
              "      <td>68.724770</td>\n",
              "      <td>172.341625</td>\n",
              "      <td>4</td>\n",
              "      <td>0</td>\n",
              "    </tr>\n",
              "    <tr>\n",
              "      <th>4</th>\n",
              "      <td>313.379817</td>\n",
              "      <td>False</td>\n",
              "      <td>58.128274</td>\n",
              "      <td>202.708432</td>\n",
              "      <td>1</td>\n",
              "      <td>0</td>\n",
              "    </tr>\n",
              "    <tr>\n",
              "      <th>...</th>\n",
              "      <td>...</td>\n",
              "      <td>...</td>\n",
              "      <td>...</td>\n",
              "      <td>...</td>\n",
              "      <td>...</td>\n",
              "      <td>...</td>\n",
              "    </tr>\n",
              "    <tr>\n",
              "      <th>195</th>\n",
              "      <td>235.250268</td>\n",
              "      <td>True</td>\n",
              "      <td>55.630055</td>\n",
              "      <td>163.331055</td>\n",
              "      <td>2</td>\n",
              "      <td>0</td>\n",
              "    </tr>\n",
              "    <tr>\n",
              "      <th>196</th>\n",
              "      <td>316.363701</td>\n",
              "      <td>True</td>\n",
              "      <td>52.935452</td>\n",
              "      <td>203.154557</td>\n",
              "      <td>4</td>\n",
              "      <td>1</td>\n",
              "    </tr>\n",
              "    <tr>\n",
              "      <th>197</th>\n",
              "      <td>299.513756</td>\n",
              "      <td>True</td>\n",
              "      <td>50.098517</td>\n",
              "      <td>184.672372</td>\n",
              "      <td>4</td>\n",
              "      <td>0</td>\n",
              "    </tr>\n",
              "    <tr>\n",
              "      <th>198</th>\n",
              "      <td>214.738584</td>\n",
              "      <td>True</td>\n",
              "      <td>54.704270</td>\n",
              "      <td>150.650043</td>\n",
              "      <td>3</td>\n",
              "      <td>1</td>\n",
              "    </tr>\n",
              "    <tr>\n",
              "      <th>199</th>\n",
              "      <td>289.825450</td>\n",
              "      <td>True</td>\n",
              "      <td>60.593029</td>\n",
              "      <td>114.220671</td>\n",
              "      <td>6</td>\n",
              "      <td>0</td>\n",
              "    </tr>\n",
              "  </tbody>\n",
              "</table>\n",
              "<p>200 rows × 6 columns</p>\n",
              "</div>"
            ],
            "text/plain": [
              "              Y      D     Income        Lawn  Members  Owned\n",
              "0    278.958436  False  50.275071  186.827382        2      1\n",
              "1    293.875100  False  65.636335  275.556499        1      1\n",
              "2    381.081020  False  68.871837  212.000238        3      0\n",
              "3    356.563247  False  68.724770  172.341625        4      0\n",
              "4    313.379817  False  58.128274  202.708432        1      0\n",
              "..          ...    ...        ...         ...      ...    ...\n",
              "195  235.250268   True  55.630055  163.331055        2      0\n",
              "196  316.363701   True  52.935452  203.154557        4      1\n",
              "197  299.513756   True  50.098517  184.672372        4      0\n",
              "198  214.738584   True  54.704270  150.650043        3      1\n",
              "199  289.825450   True  60.593029  114.220671        6      0\n",
              "\n",
              "[200 rows x 6 columns]"
            ]
          },
          "metadata": {
            "tags": []
          },
          "execution_count": 3
        }
      ]
    },
    {
      "cell_type": "code",
      "metadata": {
        "id": "BMB6V86etWsL",
        "outputId": "fc7e17a1-7b1e-425a-aef3-f86f922d5a3f",
        "colab": {
          "base_uri": "https://localhost:8080/",
          "height": 419
        }
      },
      "source": [
        "df_hob[df_hob['D'] == False]"
      ],
      "execution_count": 4,
      "outputs": [
        {
          "output_type": "execute_result",
          "data": {
            "text/html": [
              "<div>\n",
              "<style scoped>\n",
              "    .dataframe tbody tr th:only-of-type {\n",
              "        vertical-align: middle;\n",
              "    }\n",
              "\n",
              "    .dataframe tbody tr th {\n",
              "        vertical-align: top;\n",
              "    }\n",
              "\n",
              "    .dataframe thead th {\n",
              "        text-align: right;\n",
              "    }\n",
              "</style>\n",
              "<table border=\"1\" class=\"dataframe\">\n",
              "  <thead>\n",
              "    <tr style=\"text-align: right;\">\n",
              "      <th></th>\n",
              "      <th>Y</th>\n",
              "      <th>D</th>\n",
              "      <th>Income</th>\n",
              "      <th>Lawn</th>\n",
              "      <th>Members</th>\n",
              "      <th>Owned</th>\n",
              "    </tr>\n",
              "  </thead>\n",
              "  <tbody>\n",
              "    <tr>\n",
              "      <th>0</th>\n",
              "      <td>278.958436</td>\n",
              "      <td>False</td>\n",
              "      <td>50.275071</td>\n",
              "      <td>186.827382</td>\n",
              "      <td>2</td>\n",
              "      <td>1</td>\n",
              "    </tr>\n",
              "    <tr>\n",
              "      <th>1</th>\n",
              "      <td>293.875100</td>\n",
              "      <td>False</td>\n",
              "      <td>65.636335</td>\n",
              "      <td>275.556499</td>\n",
              "      <td>1</td>\n",
              "      <td>1</td>\n",
              "    </tr>\n",
              "    <tr>\n",
              "      <th>2</th>\n",
              "      <td>381.081020</td>\n",
              "      <td>False</td>\n",
              "      <td>68.871837</td>\n",
              "      <td>212.000238</td>\n",
              "      <td>3</td>\n",
              "      <td>0</td>\n",
              "    </tr>\n",
              "    <tr>\n",
              "      <th>3</th>\n",
              "      <td>356.563247</td>\n",
              "      <td>False</td>\n",
              "      <td>68.724770</td>\n",
              "      <td>172.341625</td>\n",
              "      <td>4</td>\n",
              "      <td>0</td>\n",
              "    </tr>\n",
              "    <tr>\n",
              "      <th>4</th>\n",
              "      <td>313.379817</td>\n",
              "      <td>False</td>\n",
              "      <td>58.128274</td>\n",
              "      <td>202.708432</td>\n",
              "      <td>1</td>\n",
              "      <td>0</td>\n",
              "    </tr>\n",
              "    <tr>\n",
              "      <th>...</th>\n",
              "      <td>...</td>\n",
              "      <td>...</td>\n",
              "      <td>...</td>\n",
              "      <td>...</td>\n",
              "      <td>...</td>\n",
              "      <td>...</td>\n",
              "    </tr>\n",
              "    <tr>\n",
              "      <th>95</th>\n",
              "      <td>368.772033</td>\n",
              "      <td>False</td>\n",
              "      <td>55.009215</td>\n",
              "      <td>184.376731</td>\n",
              "      <td>6</td>\n",
              "      <td>1</td>\n",
              "    </tr>\n",
              "    <tr>\n",
              "      <th>96</th>\n",
              "      <td>355.663557</td>\n",
              "      <td>False</td>\n",
              "      <td>57.201757</td>\n",
              "      <td>175.547745</td>\n",
              "      <td>2</td>\n",
              "      <td>0</td>\n",
              "    </tr>\n",
              "    <tr>\n",
              "      <th>97</th>\n",
              "      <td>327.254882</td>\n",
              "      <td>False</td>\n",
              "      <td>65.105909</td>\n",
              "      <td>205.214542</td>\n",
              "      <td>3</td>\n",
              "      <td>0</td>\n",
              "    </tr>\n",
              "    <tr>\n",
              "      <th>98</th>\n",
              "      <td>266.911678</td>\n",
              "      <td>False</td>\n",
              "      <td>52.331308</td>\n",
              "      <td>155.880945</td>\n",
              "      <td>3</td>\n",
              "      <td>0</td>\n",
              "    </tr>\n",
              "    <tr>\n",
              "      <th>99</th>\n",
              "      <td>335.407217</td>\n",
              "      <td>False</td>\n",
              "      <td>57.305260</td>\n",
              "      <td>177.558064</td>\n",
              "      <td>3</td>\n",
              "      <td>0</td>\n",
              "    </tr>\n",
              "  </tbody>\n",
              "</table>\n",
              "<p>100 rows × 6 columns</p>\n",
              "</div>"
            ],
            "text/plain": [
              "             Y      D     Income        Lawn  Members  Owned\n",
              "0   278.958436  False  50.275071  186.827382        2      1\n",
              "1   293.875100  False  65.636335  275.556499        1      1\n",
              "2   381.081020  False  68.871837  212.000238        3      0\n",
              "3   356.563247  False  68.724770  172.341625        4      0\n",
              "4   313.379817  False  58.128274  202.708432        1      0\n",
              "..         ...    ...        ...         ...      ...    ...\n",
              "95  368.772033  False  55.009215  184.376731        6      1\n",
              "96  355.663557  False  57.201757  175.547745        2      0\n",
              "97  327.254882  False  65.105909  205.214542        3      0\n",
              "98  266.911678  False  52.331308  155.880945        3      0\n",
              "99  335.407217  False  57.305260  177.558064        3      0\n",
              "\n",
              "[100 rows x 6 columns]"
            ]
          },
          "metadata": {
            "tags": []
          },
          "execution_count": 4
        }
      ]
    },
    {
      "cell_type": "code",
      "metadata": {
        "id": "YpNIH6pxprnv",
        "outputId": "02757a45-7ba0-48ef-bc91-c0ea2be0e4a7",
        "colab": {
          "base_uri": "https://localhost:8080/",
          "height": 419
        }
      },
      "source": [
        "df_res = pd.read_csv('/content/drive/My Drive/CEE322/Lab7/Researcher.csv', header=0)\n",
        "df_res"
      ],
      "execution_count": 5,
      "outputs": [
        {
          "output_type": "execute_result",
          "data": {
            "text/html": [
              "<div>\n",
              "<style scoped>\n",
              "    .dataframe tbody tr th:only-of-type {\n",
              "        vertical-align: middle;\n",
              "    }\n",
              "\n",
              "    .dataframe tbody tr th {\n",
              "        vertical-align: top;\n",
              "    }\n",
              "\n",
              "    .dataframe thead th {\n",
              "        text-align: right;\n",
              "    }\n",
              "</style>\n",
              "<table border=\"1\" class=\"dataframe\">\n",
              "  <thead>\n",
              "    <tr style=\"text-align: right;\">\n",
              "      <th></th>\n",
              "      <th>Y</th>\n",
              "      <th>D</th>\n",
              "      <th>Members</th>\n",
              "      <th>Owned</th>\n",
              "    </tr>\n",
              "  </thead>\n",
              "  <tbody>\n",
              "    <tr>\n",
              "      <th>0</th>\n",
              "      <td>264.271485</td>\n",
              "      <td>False</td>\n",
              "      <td>2</td>\n",
              "      <td>0</td>\n",
              "    </tr>\n",
              "    <tr>\n",
              "      <th>1</th>\n",
              "      <td>375.229551</td>\n",
              "      <td>False</td>\n",
              "      <td>3</td>\n",
              "      <td>1</td>\n",
              "    </tr>\n",
              "    <tr>\n",
              "      <th>2</th>\n",
              "      <td>256.447818</td>\n",
              "      <td>False</td>\n",
              "      <td>1</td>\n",
              "      <td>1</td>\n",
              "    </tr>\n",
              "    <tr>\n",
              "      <th>3</th>\n",
              "      <td>325.701571</td>\n",
              "      <td>False</td>\n",
              "      <td>5</td>\n",
              "      <td>0</td>\n",
              "    </tr>\n",
              "    <tr>\n",
              "      <th>4</th>\n",
              "      <td>257.237800</td>\n",
              "      <td>True</td>\n",
              "      <td>2</td>\n",
              "      <td>1</td>\n",
              "    </tr>\n",
              "    <tr>\n",
              "      <th>...</th>\n",
              "      <td>...</td>\n",
              "      <td>...</td>\n",
              "      <td>...</td>\n",
              "      <td>...</td>\n",
              "    </tr>\n",
              "    <tr>\n",
              "      <th>195</th>\n",
              "      <td>424.222022</td>\n",
              "      <td>True</td>\n",
              "      <td>6</td>\n",
              "      <td>1</td>\n",
              "    </tr>\n",
              "    <tr>\n",
              "      <th>196</th>\n",
              "      <td>432.054670</td>\n",
              "      <td>False</td>\n",
              "      <td>1</td>\n",
              "      <td>1</td>\n",
              "    </tr>\n",
              "    <tr>\n",
              "      <th>197</th>\n",
              "      <td>377.564539</td>\n",
              "      <td>True</td>\n",
              "      <td>1</td>\n",
              "      <td>0</td>\n",
              "    </tr>\n",
              "    <tr>\n",
              "      <th>198</th>\n",
              "      <td>465.095100</td>\n",
              "      <td>True</td>\n",
              "      <td>6</td>\n",
              "      <td>1</td>\n",
              "    </tr>\n",
              "    <tr>\n",
              "      <th>199</th>\n",
              "      <td>474.520086</td>\n",
              "      <td>True</td>\n",
              "      <td>2</td>\n",
              "      <td>1</td>\n",
              "    </tr>\n",
              "  </tbody>\n",
              "</table>\n",
              "<p>200 rows × 4 columns</p>\n",
              "</div>"
            ],
            "text/plain": [
              "              Y      D  Members  Owned\n",
              "0    264.271485  False        2      0\n",
              "1    375.229551  False        3      1\n",
              "2    256.447818  False        1      1\n",
              "3    325.701571  False        5      0\n",
              "4    257.237800   True        2      1\n",
              "..          ...    ...      ...    ...\n",
              "195  424.222022   True        6      1\n",
              "196  432.054670  False        1      1\n",
              "197  377.564539   True        1      0\n",
              "198  465.095100   True        6      1\n",
              "199  474.520086   True        2      1\n",
              "\n",
              "[200 rows x 4 columns]"
            ]
          },
          "metadata": {
            "tags": []
          },
          "execution_count": 5
        }
      ]
    },
    {
      "cell_type": "code",
      "metadata": {
        "id": "KJC7YRW8pm0c",
        "outputId": "023a2c0a-22ab-474c-ec15-20b2b831760d",
        "colab": {
          "base_uri": "https://localhost:8080/"
        }
      },
      "source": [
        "na_num = df_hob[df_hob.isnull().any(axis = 1)].shape[0]\n",
        "na_percent = na_num / df_hob.shape[0]\n",
        "print('There are ' + str(na_num) + ' rows having na (' + str(round(na_percent, 2)) + ' of sample size) in df_Ash')"
      ],
      "execution_count": 7,
      "outputs": [
        {
          "output_type": "stream",
          "text": [
            "There are 0 rows having na (0.0 of sample size) in df_Ash\n"
          ],
          "name": "stdout"
        }
      ]
    },
    {
      "cell_type": "code",
      "metadata": {
        "id": "MpQLcV7Qpvsl",
        "outputId": "a1de7f7f-16a1-4a7b-b1b4-00899ebb7d88",
        "colab": {
          "base_uri": "https://localhost:8080/"
        }
      },
      "source": [
        "na_num = df_res[df_res.isnull().any(axis = 1)].shape[0]\n",
        "na_percent = na_num / df_res.shape[0]\n",
        "print('There are ' + str(na_num) + ' rows having na (' + str(round(na_percent, 2)) + ' of sample size) in df_Ash')"
      ],
      "execution_count": 8,
      "outputs": [
        {
          "output_type": "stream",
          "text": [
            "There are 0 rows having na (0.0 of sample size) in df_Ash\n"
          ],
          "name": "stdout"
        }
      ]
    },
    {
      "cell_type": "code",
      "metadata": {
        "id": "c3IIWdl-HzNh"
      },
      "source": [
        "def stepAIC_python(input_df, output_df, input = 'undefined', direction='both', scope=None):\n",
        "    \"\"\"Input df should have a separate input for each column. Output df should have the same index as input df, but with only one column (your output variable).\n",
        "    \n",
        "    Written by Siobhan Powell in 2020 to match R's stepAIC, with inspiration from: https://planspace.org/20150423-forward_selection_with_statsmodels/. \n",
        "    \n",
        "    scope example input: scope = {'lower':['Var1', 'Var2'], 'upper':list(df.columns)}\n",
        "    The lower set of variables will never be dropped, and the upper set of variables gives the bounds of what can be added.\n",
        "    \n",
        "    direction can be \"both\", \"forward\" or \"backward\". \"Forward\" only adds, starting from lower (or none). \"Backward\" only drops, starting from upper (or full). \"Both\" considers both, starting from upper (or full).\n",
        "    \"\"\"\n",
        "\n",
        "    # Depending on direction and scope, update the initializations: \n",
        "    if scope is None: \n",
        "        never_drop = []\n",
        "        if direction in ['both', 'backward']: # Default backward and both to start with the full set of inputs\n",
        "            selected = list(input_df.columns)\n",
        "            dropped_set = []\n",
        "        else: # Default forward to start with an empty model\n",
        "            selected = [] \n",
        "            dropped_set = list(input_df.columns)\n",
        "    else:\n",
        "        never_drop = scope['lower'] # If given a base set of inputs \"lower\" never to drop\n",
        "        if direction in ['both', 'backward']: # Start with upper limit\n",
        "            selected = scope['upper']\n",
        "            dropped_set = []\n",
        "        else:\n",
        "            selected = scope['lower'] # Start with lower limit\n",
        "            dropped_set = scope['upper']\n",
        "            for i in selected:\n",
        "                dropped_set.remove(i)\n",
        "            \n",
        "    # For uniform dealing with constants\n",
        "    if 'const' in selected:\n",
        "        selected.remove('const')\n",
        "        \n",
        "    # Score of the starting model\n",
        "    X = input_df.loc[:, selected].copy(deep=True)\n",
        "    X = sm.add_constant(X)\n",
        "    current_score = sm.OLS(output_df, X).fit().aic\n",
        "    best_new_score = np.copy(current_score)\n",
        "    converged = False\n",
        "    iters = 0\n",
        "\n",
        "    while not converged and iters < 20: # Until cannot find a better model (by AIC)\n",
        "        print(' ')\n",
        "        print(' ')\n",
        "        print('-------------------------- Step '+str(iters)+' ---------------------------')\n",
        "        print(' ')\n",
        "        scores_with_without_candidates = []\n",
        "        if direction in ['both', 'backward']: # Check what happens if we remove each of the current inputs\n",
        "            for candidate in selected: \n",
        "                if candidate not in never_drop: # Except for the ones we can never remove\n",
        "                    test_selected = selected.copy()\n",
        "                    test_selected.remove(candidate)\n",
        "                    X = input_df.loc[:, test_selected].copy(deep=True)\n",
        "                    X = sm.add_constant(X)\n",
        "                    score = sm.OLS(output_df, X).fit().aic\n",
        "                    scores_with_without_candidates.append((score, candidate, test_selected, '-'))\n",
        "        if direction in ['both', 'forward']: # Check what happens if we add back a dropped or excluded input\n",
        "            for candidate in dropped_set:\n",
        "                test_selected = selected.copy()\n",
        "                test_selected.append(candidate)\n",
        "                X = input_df.loc[:, test_selected].copy(deep=True)\n",
        "                X = sm.add_constant(X)\n",
        "                score = sm.OLS(output_df, X).fit().aic\n",
        "                scores_with_without_candidates.append((score, candidate, test_selected, '+'))\n",
        "            \n",
        "        scores_with_without_candidates.sort() # Sort the results to see what step gives the lowest AIC\n",
        "            \n",
        "        # Print an output similar to Rs with these results\n",
        "        for val in scores_with_without_candidates:\n",
        "            print(val[3] + val[1] + '. AIC : ', np.round(val[0], 2))\n",
        "        best_new_score, best_candidate, new_selected, direction_considered = scores_with_without_candidates.pop(0)\n",
        "\n",
        "        \n",
        "        if current_score > best_new_score: # If that step will improve AIC, take the step\n",
        "            print(' ')\n",
        "            print('------ Result: '+direction_considered+best_candidate+'------')\n",
        "            print(' ')\n",
        "            # Keep track of dropped inputs\n",
        "            if direction_considered == '-':\n",
        "                dropped_set.append(best_candidate)            \n",
        "            else:\n",
        "                dropped_set.remove(best_candidate)\n",
        "                \n",
        "            # Update the model\n",
        "            selected = new_selected.copy()\n",
        "            print('------- New selected: ',selected)\n",
        "            current_score = best_new_score\n",
        "            X = input_df.loc[:, selected].copy(deep=True)\n",
        "            X = sm.add_constant(X)\n",
        "            model = sm.OLS(output_df, X).fit()\n",
        "\n",
        "        else: # Otherwise, end\n",
        "            converged=True\n",
        "        iters += 1\n",
        "        if iters == 20:\n",
        "            print('Maxed out iterations')\n",
        "            \n",
        "    print(' ')\n",
        "    print(' ')\n",
        "    print('-------------------------- New Model ---------------------------')\n",
        "    print(' ')\n",
        "    # Print the final result\n",
        "    X = input_df.loc[:, selected].copy(deep=True)\n",
        "    X = sm.add_constant(X)\n",
        "    model = sm.OLS(output_df, X).fit()\n",
        "    print(model.summary())\n",
        "    plt.hist(model.resid, bins=50)\n",
        "    plt.xlabel('Residual of fitted line', fontsize = 14)\n",
        "    plt.ylabel('Count', fontsize = 14)\n",
        "    plt.title('Residual of fitted line of water consumption in ' + str(input), fontsize=14)\n",
        "    plt.show()  \n",
        "    \n",
        "    return model"
      ],
      "execution_count": 6,
      "outputs": []
    },
    {
      "cell_type": "markdown",
      "metadata": {
        "id": "DpQjsVveFXrn"
      },
      "source": [
        "## Hob"
      ]
    },
    {
      "cell_type": "code",
      "metadata": {
        "id": "XKJn_TxMFf32",
        "outputId": "c885f4cb-7af0-4e7d-852a-2f0b56b3e9c2",
        "colab": {
          "base_uri": "https://localhost:8080/",
          "height": 235
        }
      },
      "source": [
        "df_hob.corr()"
      ],
      "execution_count": 10,
      "outputs": [
        {
          "output_type": "execute_result",
          "data": {
            "text/html": [
              "<div>\n",
              "<style scoped>\n",
              "    .dataframe tbody tr th:only-of-type {\n",
              "        vertical-align: middle;\n",
              "    }\n",
              "\n",
              "    .dataframe tbody tr th {\n",
              "        vertical-align: top;\n",
              "    }\n",
              "\n",
              "    .dataframe thead th {\n",
              "        text-align: right;\n",
              "    }\n",
              "</style>\n",
              "<table border=\"1\" class=\"dataframe\">\n",
              "  <thead>\n",
              "    <tr style=\"text-align: right;\">\n",
              "      <th></th>\n",
              "      <th>Y</th>\n",
              "      <th>D</th>\n",
              "      <th>Income</th>\n",
              "      <th>Lawn</th>\n",
              "      <th>Members</th>\n",
              "      <th>Owned</th>\n",
              "    </tr>\n",
              "  </thead>\n",
              "  <tbody>\n",
              "    <tr>\n",
              "      <th>Y</th>\n",
              "      <td>1.000000</td>\n",
              "      <td>-0.338847</td>\n",
              "      <td>0.643363</td>\n",
              "      <td>0.730350</td>\n",
              "      <td>0.427359</td>\n",
              "      <td>-0.072299</td>\n",
              "    </tr>\n",
              "    <tr>\n",
              "      <th>D</th>\n",
              "      <td>-0.338847</td>\n",
              "      <td>1.000000</td>\n",
              "      <td>-0.061540</td>\n",
              "      <td>-0.033648</td>\n",
              "      <td>-0.107124</td>\n",
              "      <td>0.120217</td>\n",
              "    </tr>\n",
              "    <tr>\n",
              "      <th>Income</th>\n",
              "      <td>0.643363</td>\n",
              "      <td>-0.061540</td>\n",
              "      <td>1.000000</td>\n",
              "      <td>0.656626</td>\n",
              "      <td>0.051380</td>\n",
              "      <td>-0.100082</td>\n",
              "    </tr>\n",
              "    <tr>\n",
              "      <th>Lawn</th>\n",
              "      <td>0.730350</td>\n",
              "      <td>-0.033648</td>\n",
              "      <td>0.656626</td>\n",
              "      <td>1.000000</td>\n",
              "      <td>-0.058015</td>\n",
              "      <td>-0.041131</td>\n",
              "    </tr>\n",
              "    <tr>\n",
              "      <th>Members</th>\n",
              "      <td>0.427359</td>\n",
              "      <td>-0.107124</td>\n",
              "      <td>0.051380</td>\n",
              "      <td>-0.058015</td>\n",
              "      <td>1.000000</td>\n",
              "      <td>0.033079</td>\n",
              "    </tr>\n",
              "    <tr>\n",
              "      <th>Owned</th>\n",
              "      <td>-0.072299</td>\n",
              "      <td>0.120217</td>\n",
              "      <td>-0.100082</td>\n",
              "      <td>-0.041131</td>\n",
              "      <td>0.033079</td>\n",
              "      <td>1.000000</td>\n",
              "    </tr>\n",
              "  </tbody>\n",
              "</table>\n",
              "</div>"
            ],
            "text/plain": [
              "                Y         D    Income      Lawn   Members     Owned\n",
              "Y        1.000000 -0.338847  0.643363  0.730350  0.427359 -0.072299\n",
              "D       -0.338847  1.000000 -0.061540 -0.033648 -0.107124  0.120217\n",
              "Income   0.643363 -0.061540  1.000000  0.656626  0.051380 -0.100082\n",
              "Lawn     0.730350 -0.033648  0.656626  1.000000 -0.058015 -0.041131\n",
              "Members  0.427359 -0.107124  0.051380 -0.058015  1.000000  0.033079\n",
              "Owned   -0.072299  0.120217 -0.100082 -0.041131  0.033079  1.000000"
            ]
          },
          "metadata": {
            "tags": []
          },
          "execution_count": 10
        }
      ]
    },
    {
      "cell_type": "code",
      "metadata": {
        "id": "ZXvDTMCgdwhg",
        "outputId": "c9c880e5-bc1d-4044-a36d-1b8a807b4cdb",
        "colab": {
          "base_uri": "https://localhost:8080/",
          "height": 297
        }
      },
      "source": [
        "df_hob.describe()"
      ],
      "execution_count": 11,
      "outputs": [
        {
          "output_type": "execute_result",
          "data": {
            "text/html": [
              "<div>\n",
              "<style scoped>\n",
              "    .dataframe tbody tr th:only-of-type {\n",
              "        vertical-align: middle;\n",
              "    }\n",
              "\n",
              "    .dataframe tbody tr th {\n",
              "        vertical-align: top;\n",
              "    }\n",
              "\n",
              "    .dataframe thead th {\n",
              "        text-align: right;\n",
              "    }\n",
              "</style>\n",
              "<table border=\"1\" class=\"dataframe\">\n",
              "  <thead>\n",
              "    <tr style=\"text-align: right;\">\n",
              "      <th></th>\n",
              "      <th>Y</th>\n",
              "      <th>Income</th>\n",
              "      <th>Lawn</th>\n",
              "      <th>Members</th>\n",
              "      <th>Owned</th>\n",
              "    </tr>\n",
              "  </thead>\n",
              "  <tbody>\n",
              "    <tr>\n",
              "      <th>count</th>\n",
              "      <td>200.000000</td>\n",
              "      <td>200.000000</td>\n",
              "      <td>200.000000</td>\n",
              "      <td>200.000000</td>\n",
              "      <td>200.000000</td>\n",
              "    </tr>\n",
              "    <tr>\n",
              "      <th>mean</th>\n",
              "      <td>319.280897</td>\n",
              "      <td>61.271090</td>\n",
              "      <td>203.706862</td>\n",
              "      <td>3.040000</td>\n",
              "      <td>0.470000</td>\n",
              "    </tr>\n",
              "    <tr>\n",
              "      <th>std</th>\n",
              "      <td>71.238440</td>\n",
              "      <td>11.091918</td>\n",
              "      <td>54.177693</td>\n",
              "      <td>1.590929</td>\n",
              "      <td>0.500352</td>\n",
              "    </tr>\n",
              "    <tr>\n",
              "      <th>min</th>\n",
              "      <td>175.820264</td>\n",
              "      <td>50.043810</td>\n",
              "      <td>73.374152</td>\n",
              "      <td>1.000000</td>\n",
              "      <td>0.000000</td>\n",
              "    </tr>\n",
              "    <tr>\n",
              "      <th>25%</th>\n",
              "      <td>269.572904</td>\n",
              "      <td>53.476266</td>\n",
              "      <td>168.729900</td>\n",
              "      <td>2.000000</td>\n",
              "      <td>0.000000</td>\n",
              "    </tr>\n",
              "    <tr>\n",
              "      <th>50%</th>\n",
              "      <td>311.222477</td>\n",
              "      <td>57.672374</td>\n",
              "      <td>197.625741</td>\n",
              "      <td>3.000000</td>\n",
              "      <td>0.000000</td>\n",
              "    </tr>\n",
              "    <tr>\n",
              "      <th>75%</th>\n",
              "      <td>357.809392</td>\n",
              "      <td>65.449906</td>\n",
              "      <td>233.217969</td>\n",
              "      <td>4.000000</td>\n",
              "      <td>1.000000</td>\n",
              "    </tr>\n",
              "    <tr>\n",
              "      <th>max</th>\n",
              "      <td>583.909945</td>\n",
              "      <td>112.569451</td>\n",
              "      <td>414.123731</td>\n",
              "      <td>6.000000</td>\n",
              "      <td>1.000000</td>\n",
              "    </tr>\n",
              "  </tbody>\n",
              "</table>\n",
              "</div>"
            ],
            "text/plain": [
              "                Y      Income        Lawn     Members       Owned\n",
              "count  200.000000  200.000000  200.000000  200.000000  200.000000\n",
              "mean   319.280897   61.271090  203.706862    3.040000    0.470000\n",
              "std     71.238440   11.091918   54.177693    1.590929    0.500352\n",
              "min    175.820264   50.043810   73.374152    1.000000    0.000000\n",
              "25%    269.572904   53.476266  168.729900    2.000000    0.000000\n",
              "50%    311.222477   57.672374  197.625741    3.000000    0.000000\n",
              "75%    357.809392   65.449906  233.217969    4.000000    1.000000\n",
              "max    583.909945  112.569451  414.123731    6.000000    1.000000"
            ]
          },
          "metadata": {
            "tags": []
          },
          "execution_count": 11
        }
      ]
    },
    {
      "cell_type": "markdown",
      "metadata": {
        "id": "WU3vthUDKJJq"
      },
      "source": [
        "### Average"
      ]
    },
    {
      "cell_type": "code",
      "metadata": {
        "id": "FQfeEPvLKOzd",
        "outputId": "1201f22b-c015-44cd-b29c-8fb604f1fd15",
        "colab": {
          "base_uri": "https://localhost:8080/",
          "height": 297
        }
      },
      "source": [
        "df_hob[df_hob['D'] == False].describe()"
      ],
      "execution_count": 12,
      "outputs": [
        {
          "output_type": "execute_result",
          "data": {
            "text/html": [
              "<div>\n",
              "<style scoped>\n",
              "    .dataframe tbody tr th:only-of-type {\n",
              "        vertical-align: middle;\n",
              "    }\n",
              "\n",
              "    .dataframe tbody tr th {\n",
              "        vertical-align: top;\n",
              "    }\n",
              "\n",
              "    .dataframe thead th {\n",
              "        text-align: right;\n",
              "    }\n",
              "</style>\n",
              "<table border=\"1\" class=\"dataframe\">\n",
              "  <thead>\n",
              "    <tr style=\"text-align: right;\">\n",
              "      <th></th>\n",
              "      <th>Y</th>\n",
              "      <th>Income</th>\n",
              "      <th>Lawn</th>\n",
              "      <th>Members</th>\n",
              "      <th>Owned</th>\n",
              "    </tr>\n",
              "  </thead>\n",
              "  <tbody>\n",
              "    <tr>\n",
              "      <th>count</th>\n",
              "      <td>100.000000</td>\n",
              "      <td>100.000000</td>\n",
              "      <td>100.000000</td>\n",
              "      <td>100.000000</td>\n",
              "      <td>100.000000</td>\n",
              "    </tr>\n",
              "    <tr>\n",
              "      <th>mean</th>\n",
              "      <td>343.359377</td>\n",
              "      <td>61.951978</td>\n",
              "      <td>205.525265</td>\n",
              "      <td>3.210000</td>\n",
              "      <td>0.410000</td>\n",
              "    </tr>\n",
              "    <tr>\n",
              "      <th>std</th>\n",
              "      <td>72.404310</td>\n",
              "      <td>12.370755</td>\n",
              "      <td>54.283576</td>\n",
              "      <td>1.616175</td>\n",
              "      <td>0.494311</td>\n",
              "    </tr>\n",
              "    <tr>\n",
              "      <th>min</th>\n",
              "      <td>175.820264</td>\n",
              "      <td>50.043810</td>\n",
              "      <td>115.386633</td>\n",
              "      <td>1.000000</td>\n",
              "      <td>0.000000</td>\n",
              "    </tr>\n",
              "    <tr>\n",
              "      <th>25%</th>\n",
              "      <td>292.660545</td>\n",
              "      <td>53.632191</td>\n",
              "      <td>171.813883</td>\n",
              "      <td>2.000000</td>\n",
              "      <td>0.000000</td>\n",
              "    </tr>\n",
              "    <tr>\n",
              "      <th>50%</th>\n",
              "      <td>334.075420</td>\n",
              "      <td>56.943835</td>\n",
              "      <td>197.717928</td>\n",
              "      <td>3.000000</td>\n",
              "      <td>0.000000</td>\n",
              "    </tr>\n",
              "    <tr>\n",
              "      <th>75%</th>\n",
              "      <td>378.032404</td>\n",
              "      <td>66.293748</td>\n",
              "      <td>232.132978</td>\n",
              "      <td>4.000000</td>\n",
              "      <td>1.000000</td>\n",
              "    </tr>\n",
              "    <tr>\n",
              "      <th>max</th>\n",
              "      <td>583.909945</td>\n",
              "      <td>112.569451</td>\n",
              "      <td>414.123731</td>\n",
              "      <td>6.000000</td>\n",
              "      <td>1.000000</td>\n",
              "    </tr>\n",
              "  </tbody>\n",
              "</table>\n",
              "</div>"
            ],
            "text/plain": [
              "                Y      Income        Lawn     Members       Owned\n",
              "count  100.000000  100.000000  100.000000  100.000000  100.000000\n",
              "mean   343.359377   61.951978  205.525265    3.210000    0.410000\n",
              "std     72.404310   12.370755   54.283576    1.616175    0.494311\n",
              "min    175.820264   50.043810  115.386633    1.000000    0.000000\n",
              "25%    292.660545   53.632191  171.813883    2.000000    0.000000\n",
              "50%    334.075420   56.943835  197.717928    3.000000    0.000000\n",
              "75%    378.032404   66.293748  232.132978    4.000000    1.000000\n",
              "max    583.909945  112.569451  414.123731    6.000000    1.000000"
            ]
          },
          "metadata": {
            "tags": []
          },
          "execution_count": 12
        }
      ]
    },
    {
      "cell_type": "code",
      "metadata": {
        "id": "VSrHQf4OKzkp",
        "outputId": "3378860a-c9d2-45e4-c6c4-35744c121785",
        "colab": {
          "base_uri": "https://localhost:8080/",
          "height": 297
        }
      },
      "source": [
        "df_hob[df_hob['D'] == True].describe()"
      ],
      "execution_count": 13,
      "outputs": [
        {
          "output_type": "execute_result",
          "data": {
            "text/html": [
              "<div>\n",
              "<style scoped>\n",
              "    .dataframe tbody tr th:only-of-type {\n",
              "        vertical-align: middle;\n",
              "    }\n",
              "\n",
              "    .dataframe tbody tr th {\n",
              "        vertical-align: top;\n",
              "    }\n",
              "\n",
              "    .dataframe thead th {\n",
              "        text-align: right;\n",
              "    }\n",
              "</style>\n",
              "<table border=\"1\" class=\"dataframe\">\n",
              "  <thead>\n",
              "    <tr style=\"text-align: right;\">\n",
              "      <th></th>\n",
              "      <th>Y</th>\n",
              "      <th>Income</th>\n",
              "      <th>Lawn</th>\n",
              "      <th>Members</th>\n",
              "      <th>Owned</th>\n",
              "    </tr>\n",
              "  </thead>\n",
              "  <tbody>\n",
              "    <tr>\n",
              "      <th>count</th>\n",
              "      <td>100.000000</td>\n",
              "      <td>100.000000</td>\n",
              "      <td>100.000000</td>\n",
              "      <td>100.000000</td>\n",
              "      <td>100.000000</td>\n",
              "    </tr>\n",
              "    <tr>\n",
              "      <th>mean</th>\n",
              "      <td>295.202418</td>\n",
              "      <td>60.590201</td>\n",
              "      <td>201.888459</td>\n",
              "      <td>2.870000</td>\n",
              "      <td>0.530000</td>\n",
              "    </tr>\n",
              "    <tr>\n",
              "      <th>std</th>\n",
              "      <td>61.542256</td>\n",
              "      <td>9.660841</td>\n",
              "      <td>54.283580</td>\n",
              "      <td>1.554758</td>\n",
              "      <td>0.501614</td>\n",
              "    </tr>\n",
              "    <tr>\n",
              "      <th>min</th>\n",
              "      <td>178.522642</td>\n",
              "      <td>50.098517</td>\n",
              "      <td>73.374152</td>\n",
              "      <td>1.000000</td>\n",
              "      <td>0.000000</td>\n",
              "    </tr>\n",
              "    <tr>\n",
              "      <th>25%</th>\n",
              "      <td>249.354948</td>\n",
              "      <td>53.298399</td>\n",
              "      <td>165.652755</td>\n",
              "      <td>1.750000</td>\n",
              "      <td>0.000000</td>\n",
              "    </tr>\n",
              "    <tr>\n",
              "      <th>50%</th>\n",
              "      <td>292.684996</td>\n",
              "      <td>57.977313</td>\n",
              "      <td>197.625741</td>\n",
              "      <td>3.000000</td>\n",
              "      <td>1.000000</td>\n",
              "    </tr>\n",
              "    <tr>\n",
              "      <th>75%</th>\n",
              "      <td>335.171059</td>\n",
              "      <td>64.848686</td>\n",
              "      <td>234.699570</td>\n",
              "      <td>4.000000</td>\n",
              "      <td>1.000000</td>\n",
              "    </tr>\n",
              "    <tr>\n",
              "      <th>max</th>\n",
              "      <td>450.295274</td>\n",
              "      <td>93.651147</td>\n",
              "      <td>328.831076</td>\n",
              "      <td>6.000000</td>\n",
              "      <td>1.000000</td>\n",
              "    </tr>\n",
              "  </tbody>\n",
              "</table>\n",
              "</div>"
            ],
            "text/plain": [
              "                Y      Income        Lawn     Members       Owned\n",
              "count  100.000000  100.000000  100.000000  100.000000  100.000000\n",
              "mean   295.202418   60.590201  201.888459    2.870000    0.530000\n",
              "std     61.542256    9.660841   54.283580    1.554758    0.501614\n",
              "min    178.522642   50.098517   73.374152    1.000000    0.000000\n",
              "25%    249.354948   53.298399  165.652755    1.750000    0.000000\n",
              "50%    292.684996   57.977313  197.625741    3.000000    1.000000\n",
              "75%    335.171059   64.848686  234.699570    4.000000    1.000000\n",
              "max    450.295274   93.651147  328.831076    6.000000    1.000000"
            ]
          },
          "metadata": {
            "tags": []
          },
          "execution_count": 13
        }
      ]
    },
    {
      "cell_type": "code",
      "metadata": {
        "id": "iHZ1AERTRkqB",
        "outputId": "4a147985-3630-47d8-a026-7be4809ef3d4",
        "colab": {
          "base_uri": "https://localhost:8080/"
        }
      },
      "source": [
        "df_hob[df_hob['D'] == False]['Y'].mean() - df_hob[df_hob['D'] == True]['Y'].mean()"
      ],
      "execution_count": 14,
      "outputs": [
        {
          "output_type": "execute_result",
          "data": {
            "text/plain": [
              "48.15695900377233"
            ]
          },
          "metadata": {
            "tags": []
          },
          "execution_count": 14
        }
      ]
    },
    {
      "cell_type": "markdown",
      "metadata": {
        "id": "RA1MeaRiKMVQ"
      },
      "source": [
        "### Regression"
      ]
    },
    {
      "cell_type": "code",
      "metadata": {
        "id": "tsUwWx41GNT2",
        "outputId": "5c91ead1-c462-4041-b12d-6983bb36e8c5",
        "colab": {
          "base_uri": "https://localhost:8080/",
          "height": 204
        }
      },
      "source": [
        "df_hob_dummy = pd.get_dummies(df_hob, columns=['D'])\n",
        "df_hob_dummy.head()"
      ],
      "execution_count": 15,
      "outputs": [
        {
          "output_type": "execute_result",
          "data": {
            "text/html": [
              "<div>\n",
              "<style scoped>\n",
              "    .dataframe tbody tr th:only-of-type {\n",
              "        vertical-align: middle;\n",
              "    }\n",
              "\n",
              "    .dataframe tbody tr th {\n",
              "        vertical-align: top;\n",
              "    }\n",
              "\n",
              "    .dataframe thead th {\n",
              "        text-align: right;\n",
              "    }\n",
              "</style>\n",
              "<table border=\"1\" class=\"dataframe\">\n",
              "  <thead>\n",
              "    <tr style=\"text-align: right;\">\n",
              "      <th></th>\n",
              "      <th>Y</th>\n",
              "      <th>Income</th>\n",
              "      <th>Lawn</th>\n",
              "      <th>Members</th>\n",
              "      <th>Owned</th>\n",
              "      <th>D_False</th>\n",
              "      <th>D_True</th>\n",
              "    </tr>\n",
              "  </thead>\n",
              "  <tbody>\n",
              "    <tr>\n",
              "      <th>0</th>\n",
              "      <td>278.958436</td>\n",
              "      <td>50.275071</td>\n",
              "      <td>186.827382</td>\n",
              "      <td>2</td>\n",
              "      <td>1</td>\n",
              "      <td>1</td>\n",
              "      <td>0</td>\n",
              "    </tr>\n",
              "    <tr>\n",
              "      <th>1</th>\n",
              "      <td>293.875100</td>\n",
              "      <td>65.636335</td>\n",
              "      <td>275.556499</td>\n",
              "      <td>1</td>\n",
              "      <td>1</td>\n",
              "      <td>1</td>\n",
              "      <td>0</td>\n",
              "    </tr>\n",
              "    <tr>\n",
              "      <th>2</th>\n",
              "      <td>381.081020</td>\n",
              "      <td>68.871837</td>\n",
              "      <td>212.000238</td>\n",
              "      <td>3</td>\n",
              "      <td>0</td>\n",
              "      <td>1</td>\n",
              "      <td>0</td>\n",
              "    </tr>\n",
              "    <tr>\n",
              "      <th>3</th>\n",
              "      <td>356.563247</td>\n",
              "      <td>68.724770</td>\n",
              "      <td>172.341625</td>\n",
              "      <td>4</td>\n",
              "      <td>0</td>\n",
              "      <td>1</td>\n",
              "      <td>0</td>\n",
              "    </tr>\n",
              "    <tr>\n",
              "      <th>4</th>\n",
              "      <td>313.379817</td>\n",
              "      <td>58.128274</td>\n",
              "      <td>202.708432</td>\n",
              "      <td>1</td>\n",
              "      <td>0</td>\n",
              "      <td>1</td>\n",
              "      <td>0</td>\n",
              "    </tr>\n",
              "  </tbody>\n",
              "</table>\n",
              "</div>"
            ],
            "text/plain": [
              "            Y     Income        Lawn  Members  Owned  D_False  D_True\n",
              "0  278.958436  50.275071  186.827382        2      1        1       0\n",
              "1  293.875100  65.636335  275.556499        1      1        1       0\n",
              "2  381.081020  68.871837  212.000238        3      0        1       0\n",
              "3  356.563247  68.724770  172.341625        4      0        1       0\n",
              "4  313.379817  58.128274  202.708432        1      0        1       0"
            ]
          },
          "metadata": {
            "tags": []
          },
          "execution_count": 15
        }
      ]
    },
    {
      "cell_type": "code",
      "metadata": {
        "id": "hip_JPwnGRoW"
      },
      "source": [
        "df_hob_dummy.drop(columns=['D_False'], inplace = True)"
      ],
      "execution_count": 16,
      "outputs": []
    },
    {
      "cell_type": "code",
      "metadata": {
        "id": "nKV0fTLFF1Zn",
        "outputId": "0ac1bf9b-9211-4f77-9aa3-1ed7a92f9764",
        "colab": {
          "base_uri": "https://localhost:8080/"
        }
      },
      "source": [
        "Y = df_hob_dummy['Y']\n",
        "X = df_hob_dummy.loc[:, ['Income', 'Lawn', 'Members', 'Owned', 'D_True']]\n",
        "X = sm.add_constant(X)\n",
        "model = sm.OLS(Y,X)\n",
        "results = model.fit()\n",
        "print(results.summary())"
      ],
      "execution_count": 17,
      "outputs": [
        {
          "output_type": "stream",
          "text": [
            "                            OLS Regression Results                            \n",
            "==============================================================================\n",
            "Dep. Variable:                      Y   R-squared:                       0.848\n",
            "Model:                            OLS   Adj. R-squared:                  0.844\n",
            "Method:                 Least Squares   F-statistic:                     216.5\n",
            "Date:                Sat, 07 Nov 2020   Prob (F-statistic):           2.48e-77\n",
            "Time:                        06:39:36   Log-Likelihood:                -948.10\n",
            "No. Observations:                 200   AIC:                             1908.\n",
            "Df Residuals:                     194   BIC:                             1928.\n",
            "Df Model:                           5                                         \n",
            "Covariance Type:            nonrobust                                         \n",
            "==============================================================================\n",
            "                 coef    std err          t      P>|t|      [0.025      0.975]\n",
            "------------------------------------------------------------------------------\n",
            "const         36.7504     12.321      2.983      0.003      12.450      61.051\n",
            "Income         1.2964      0.241      5.371      0.000       0.820       1.772\n",
            "Lawn           0.8065      0.049     16.392      0.000       0.709       0.904\n",
            "Members       19.0370      1.273     14.951      0.000      16.526      21.548\n",
            "Owned         -1.3936      4.040     -0.345      0.731      -9.362       6.575\n",
            "D_True       -36.8186      4.037     -9.121      0.000     -44.780     -28.858\n",
            "==============================================================================\n",
            "Omnibus:                        2.278   Durbin-Watson:                   1.964\n",
            "Prob(Omnibus):                  0.320   Jarque-Bera (JB):                2.133\n",
            "Skew:                          -0.253   Prob(JB):                        0.344\n",
            "Kurtosis:                       3.000   Cond. No.                     1.37e+03\n",
            "==============================================================================\n",
            "\n",
            "Warnings:\n",
            "[1] Standard Errors assume that the covariance matrix of the errors is correctly specified.\n",
            "[2] The condition number is large, 1.37e+03. This might indicate that there are\n",
            "strong multicollinearity or other numerical problems.\n"
          ],
          "name": "stdout"
        }
      ]
    },
    {
      "cell_type": "code",
      "metadata": {
        "id": "zaePkvJiHUj9",
        "outputId": "6ff38777-b8f1-4a4a-9a92-48f7f7fee023",
        "colab": {
          "base_uri": "https://localhost:8080/",
          "height": 164
        }
      },
      "source": [
        "model = stepAIC_python(input_df = X, output_df = Y)"
      ],
      "execution_count": 18,
      "outputs": [
        {
          "output_type": "error",
          "ename": "TypeError",
          "evalue": "ignored",
          "traceback": [
            "\u001b[0;31m---------------------------------------------------------------------------\u001b[0m",
            "\u001b[0;31mTypeError\u001b[0m                                 Traceback (most recent call last)",
            "\u001b[0;32m<ipython-input-18-88297dfd55bc>\u001b[0m in \u001b[0;36m<module>\u001b[0;34m()\u001b[0m\n\u001b[0;32m----> 1\u001b[0;31m \u001b[0mmodel\u001b[0m \u001b[0;34m=\u001b[0m \u001b[0mstepAIC_python\u001b[0m\u001b[0;34m(\u001b[0m\u001b[0minput_df\u001b[0m \u001b[0;34m=\u001b[0m \u001b[0mX\u001b[0m\u001b[0;34m,\u001b[0m \u001b[0moutput_df\u001b[0m \u001b[0;34m=\u001b[0m \u001b[0mY\u001b[0m\u001b[0;34m)\u001b[0m\u001b[0;34m\u001b[0m\u001b[0;34m\u001b[0m\u001b[0m\n\u001b[0m",
            "\u001b[0;31mTypeError\u001b[0m: stepAIC_python() missing 1 required positional argument: 'input'"
          ]
        }
      ]
    },
    {
      "cell_type": "markdown",
      "metadata": {
        "id": "XL4u6xWuccnu"
      },
      "source": [
        "### Income"
      ]
    },
    {
      "cell_type": "code",
      "metadata": {
        "id": "0pF_YJUccj0i",
        "outputId": "f6e18911-5559-46b9-c694-02de70088716",
        "colab": {
          "base_uri": "https://localhost:8080/",
          "height": 419
        }
      },
      "source": [
        "df_hob_lincome = df_hob_dummy[df_hob_dummy['Income'] < 61.3]\n",
        "df_hob_lincome"
      ],
      "execution_count": 30,
      "outputs": [
        {
          "output_type": "execute_result",
          "data": {
            "text/html": [
              "<div>\n",
              "<style scoped>\n",
              "    .dataframe tbody tr th:only-of-type {\n",
              "        vertical-align: middle;\n",
              "    }\n",
              "\n",
              "    .dataframe tbody tr th {\n",
              "        vertical-align: top;\n",
              "    }\n",
              "\n",
              "    .dataframe thead th {\n",
              "        text-align: right;\n",
              "    }\n",
              "</style>\n",
              "<table border=\"1\" class=\"dataframe\">\n",
              "  <thead>\n",
              "    <tr style=\"text-align: right;\">\n",
              "      <th></th>\n",
              "      <th>Y</th>\n",
              "      <th>Income</th>\n",
              "      <th>Lawn</th>\n",
              "      <th>Members</th>\n",
              "      <th>Owned</th>\n",
              "      <th>D_True</th>\n",
              "    </tr>\n",
              "  </thead>\n",
              "  <tbody>\n",
              "    <tr>\n",
              "      <th>0</th>\n",
              "      <td>278.958436</td>\n",
              "      <td>50.275071</td>\n",
              "      <td>186.827382</td>\n",
              "      <td>2</td>\n",
              "      <td>1</td>\n",
              "      <td>0</td>\n",
              "    </tr>\n",
              "    <tr>\n",
              "      <th>4</th>\n",
              "      <td>313.379817</td>\n",
              "      <td>58.128274</td>\n",
              "      <td>202.708432</td>\n",
              "      <td>1</td>\n",
              "      <td>0</td>\n",
              "      <td>0</td>\n",
              "    </tr>\n",
              "    <tr>\n",
              "      <th>5</th>\n",
              "      <td>322.393837</td>\n",
              "      <td>55.250037</td>\n",
              "      <td>192.630462</td>\n",
              "      <td>3</td>\n",
              "      <td>0</td>\n",
              "      <td>0</td>\n",
              "    </tr>\n",
              "    <tr>\n",
              "      <th>6</th>\n",
              "      <td>308.746686</td>\n",
              "      <td>50.786556</td>\n",
              "      <td>201.807771</td>\n",
              "      <td>2</td>\n",
              "      <td>0</td>\n",
              "      <td>0</td>\n",
              "    </tr>\n",
              "    <tr>\n",
              "      <th>7</th>\n",
              "      <td>329.263811</td>\n",
              "      <td>56.216763</td>\n",
              "      <td>127.383957</td>\n",
              "      <td>4</td>\n",
              "      <td>0</td>\n",
              "      <td>0</td>\n",
              "    </tr>\n",
              "    <tr>\n",
              "      <th>...</th>\n",
              "      <td>...</td>\n",
              "      <td>...</td>\n",
              "      <td>...</td>\n",
              "      <td>...</td>\n",
              "      <td>...</td>\n",
              "      <td>...</td>\n",
              "    </tr>\n",
              "    <tr>\n",
              "      <th>195</th>\n",
              "      <td>235.250268</td>\n",
              "      <td>55.630055</td>\n",
              "      <td>163.331055</td>\n",
              "      <td>2</td>\n",
              "      <td>0</td>\n",
              "      <td>1</td>\n",
              "    </tr>\n",
              "    <tr>\n",
              "      <th>196</th>\n",
              "      <td>316.363701</td>\n",
              "      <td>52.935452</td>\n",
              "      <td>203.154557</td>\n",
              "      <td>4</td>\n",
              "      <td>1</td>\n",
              "      <td>1</td>\n",
              "    </tr>\n",
              "    <tr>\n",
              "      <th>197</th>\n",
              "      <td>299.513756</td>\n",
              "      <td>50.098517</td>\n",
              "      <td>184.672372</td>\n",
              "      <td>4</td>\n",
              "      <td>0</td>\n",
              "      <td>1</td>\n",
              "    </tr>\n",
              "    <tr>\n",
              "      <th>198</th>\n",
              "      <td>214.738584</td>\n",
              "      <td>54.704270</td>\n",
              "      <td>150.650043</td>\n",
              "      <td>3</td>\n",
              "      <td>1</td>\n",
              "      <td>1</td>\n",
              "    </tr>\n",
              "    <tr>\n",
              "      <th>199</th>\n",
              "      <td>289.825450</td>\n",
              "      <td>60.593029</td>\n",
              "      <td>114.220671</td>\n",
              "      <td>6</td>\n",
              "      <td>0</td>\n",
              "      <td>1</td>\n",
              "    </tr>\n",
              "  </tbody>\n",
              "</table>\n",
              "<p>127 rows × 6 columns</p>\n",
              "</div>"
            ],
            "text/plain": [
              "              Y     Income        Lawn  Members  Owned  D_True\n",
              "0    278.958436  50.275071  186.827382        2      1       0\n",
              "4    313.379817  58.128274  202.708432        1      0       0\n",
              "5    322.393837  55.250037  192.630462        3      0       0\n",
              "6    308.746686  50.786556  201.807771        2      0       0\n",
              "7    329.263811  56.216763  127.383957        4      0       0\n",
              "..          ...        ...         ...      ...    ...     ...\n",
              "195  235.250268  55.630055  163.331055        2      0       1\n",
              "196  316.363701  52.935452  203.154557        4      1       1\n",
              "197  299.513756  50.098517  184.672372        4      0       1\n",
              "198  214.738584  54.704270  150.650043        3      1       1\n",
              "199  289.825450  60.593029  114.220671        6      0       1\n",
              "\n",
              "[127 rows x 6 columns]"
            ]
          },
          "metadata": {
            "tags": []
          },
          "execution_count": 30
        }
      ]
    },
    {
      "cell_type": "code",
      "metadata": {
        "id": "2SuOB0Apc0PT",
        "outputId": "e5b34549-5884-429a-b899-2b3e35922108",
        "colab": {
          "base_uri": "https://localhost:8080/",
          "height": 419
        }
      },
      "source": [
        "df_hob_hincome = df_hob_dummy[df_hob_dummy['Income'] > 61.3]\n",
        "df_hob_hincome"
      ],
      "execution_count": 29,
      "outputs": [
        {
          "output_type": "execute_result",
          "data": {
            "text/html": [
              "<div>\n",
              "<style scoped>\n",
              "    .dataframe tbody tr th:only-of-type {\n",
              "        vertical-align: middle;\n",
              "    }\n",
              "\n",
              "    .dataframe tbody tr th {\n",
              "        vertical-align: top;\n",
              "    }\n",
              "\n",
              "    .dataframe thead th {\n",
              "        text-align: right;\n",
              "    }\n",
              "</style>\n",
              "<table border=\"1\" class=\"dataframe\">\n",
              "  <thead>\n",
              "    <tr style=\"text-align: right;\">\n",
              "      <th></th>\n",
              "      <th>Y</th>\n",
              "      <th>Income</th>\n",
              "      <th>Lawn</th>\n",
              "      <th>Members</th>\n",
              "      <th>Owned</th>\n",
              "      <th>D_True</th>\n",
              "    </tr>\n",
              "  </thead>\n",
              "  <tbody>\n",
              "    <tr>\n",
              "      <th>1</th>\n",
              "      <td>293.875100</td>\n",
              "      <td>65.636335</td>\n",
              "      <td>275.556499</td>\n",
              "      <td>1</td>\n",
              "      <td>1</td>\n",
              "      <td>0</td>\n",
              "    </tr>\n",
              "    <tr>\n",
              "      <th>2</th>\n",
              "      <td>381.081020</td>\n",
              "      <td>68.871837</td>\n",
              "      <td>212.000238</td>\n",
              "      <td>3</td>\n",
              "      <td>0</td>\n",
              "      <td>0</td>\n",
              "    </tr>\n",
              "    <tr>\n",
              "      <th>3</th>\n",
              "      <td>356.563247</td>\n",
              "      <td>68.724770</td>\n",
              "      <td>172.341625</td>\n",
              "      <td>4</td>\n",
              "      <td>0</td>\n",
              "      <td>0</td>\n",
              "    </tr>\n",
              "    <tr>\n",
              "      <th>8</th>\n",
              "      <td>375.707688</td>\n",
              "      <td>75.807867</td>\n",
              "      <td>183.156351</td>\n",
              "      <td>3</td>\n",
              "      <td>0</td>\n",
              "      <td>0</td>\n",
              "    </tr>\n",
              "    <tr>\n",
              "      <th>16</th>\n",
              "      <td>311.048738</td>\n",
              "      <td>70.041839</td>\n",
              "      <td>178.989793</td>\n",
              "      <td>3</td>\n",
              "      <td>1</td>\n",
              "      <td>0</td>\n",
              "    </tr>\n",
              "    <tr>\n",
              "      <th>...</th>\n",
              "      <td>...</td>\n",
              "      <td>...</td>\n",
              "      <td>...</td>\n",
              "      <td>...</td>\n",
              "      <td>...</td>\n",
              "      <td>...</td>\n",
              "    </tr>\n",
              "    <tr>\n",
              "      <th>183</th>\n",
              "      <td>422.060128</td>\n",
              "      <td>90.100739</td>\n",
              "      <td>319.639516</td>\n",
              "      <td>3</td>\n",
              "      <td>0</td>\n",
              "      <td>1</td>\n",
              "    </tr>\n",
              "    <tr>\n",
              "      <th>184</th>\n",
              "      <td>342.923955</td>\n",
              "      <td>65.547171</td>\n",
              "      <td>260.529691</td>\n",
              "      <td>3</td>\n",
              "      <td>0</td>\n",
              "      <td>1</td>\n",
              "    </tr>\n",
              "    <tr>\n",
              "      <th>186</th>\n",
              "      <td>297.166800</td>\n",
              "      <td>72.471994</td>\n",
              "      <td>233.124296</td>\n",
              "      <td>1</td>\n",
              "      <td>0</td>\n",
              "      <td>1</td>\n",
              "    </tr>\n",
              "    <tr>\n",
              "      <th>191</th>\n",
              "      <td>353.093392</td>\n",
              "      <td>64.920654</td>\n",
              "      <td>247.563957</td>\n",
              "      <td>5</td>\n",
              "      <td>1</td>\n",
              "      <td>1</td>\n",
              "    </tr>\n",
              "    <tr>\n",
              "      <th>194</th>\n",
              "      <td>292.611869</td>\n",
              "      <td>63.343908</td>\n",
              "      <td>162.315528</td>\n",
              "      <td>4</td>\n",
              "      <td>0</td>\n",
              "      <td>1</td>\n",
              "    </tr>\n",
              "  </tbody>\n",
              "</table>\n",
              "<p>73 rows × 6 columns</p>\n",
              "</div>"
            ],
            "text/plain": [
              "              Y     Income        Lawn  Members  Owned  D_True\n",
              "1    293.875100  65.636335  275.556499        1      1       0\n",
              "2    381.081020  68.871837  212.000238        3      0       0\n",
              "3    356.563247  68.724770  172.341625        4      0       0\n",
              "8    375.707688  75.807867  183.156351        3      0       0\n",
              "16   311.048738  70.041839  178.989793        3      1       0\n",
              "..          ...        ...         ...      ...    ...     ...\n",
              "183  422.060128  90.100739  319.639516        3      0       1\n",
              "184  342.923955  65.547171  260.529691        3      0       1\n",
              "186  297.166800  72.471994  233.124296        1      0       1\n",
              "191  353.093392  64.920654  247.563957        5      1       1\n",
              "194  292.611869  63.343908  162.315528        4      0       1\n",
              "\n",
              "[73 rows x 6 columns]"
            ]
          },
          "metadata": {
            "tags": []
          },
          "execution_count": 29
        }
      ]
    },
    {
      "cell_type": "code",
      "metadata": {
        "id": "GmxhPFxsbyTT",
        "outputId": "81f5f583-feb3-4340-d16a-bb448cd9a81a",
        "colab": {
          "base_uri": "https://localhost:8080/"
        }
      },
      "source": [
        "df_hob_lincome[df_hob_lincome['D_True'] == 0]['Y'].mean() - df_hob_lincome[df_hob_lincome['D_True'] == 1]['Y'].mean()"
      ],
      "execution_count": 24,
      "outputs": [
        {
          "output_type": "execute_result",
          "data": {
            "text/plain": [
              "37.09640506518252"
            ]
          },
          "metadata": {
            "tags": []
          },
          "execution_count": 24
        }
      ]
    },
    {
      "cell_type": "code",
      "metadata": {
        "id": "QTa_HKxMfhTQ",
        "outputId": "5c4d1aa8-a599-4fe9-c34a-f2d83e5d2966",
        "colab": {
          "base_uri": "https://localhost:8080/"
        }
      },
      "source": [
        "df_hob_hincome[df_hob_hincome['D_True'] == 1]['Lawn'].mean() - df_hob_hincome[df_hob_hincome['D_True'] == 0]['Lawn'].mean()"
      ],
      "execution_count": 56,
      "outputs": [
        {
          "output_type": "execute_result",
          "data": {
            "text/plain": [
              "-12.893432298312263"
            ]
          },
          "metadata": {
            "tags": []
          },
          "execution_count": 56
        }
      ]
    },
    {
      "cell_type": "code",
      "metadata": {
        "id": "SMdXxy7eto7u",
        "outputId": "59ed6d58-4748-4e62-e8f3-b63833723d30",
        "colab": {
          "base_uri": "https://localhost:8080/"
        }
      },
      "source": [
        "df_hob_hincome[df_hob_hincome['D_True'] == 1]['Members'].mean()"
      ],
      "execution_count": 62,
      "outputs": [
        {
          "output_type": "execute_result",
          "data": {
            "text/plain": [
              "2.8857142857142857"
            ]
          },
          "metadata": {
            "tags": []
          },
          "execution_count": 62
        }
      ]
    },
    {
      "cell_type": "code",
      "metadata": {
        "id": "AN41xyYfcW4x",
        "outputId": "4ee4554f-ddf4-4d0f-cc15-c7f9f288879b",
        "colab": {
          "base_uri": "https://localhost:8080/"
        }
      },
      "source": [
        "df_hob_hincome['Lawn'].mean() - df_hob_lincome['Lawn'].mean()"
      ],
      "execution_count": 41,
      "outputs": [
        {
          "output_type": "execute_result",
          "data": {
            "text/plain": [
              "50.189339959867425"
            ]
          },
          "metadata": {
            "tags": []
          },
          "execution_count": 41
        }
      ]
    },
    {
      "cell_type": "code",
      "metadata": {
        "id": "DjY0LacVdO9X"
      },
      "source": [
        "def fit_hob(df, input):\n",
        "  Y = df['Y']\n",
        "  X = df.loc[:, ['Income', 'Lawn', 'Members', 'Owned', 'D_True']]\n",
        "  X = sm.add_constant(X)\n",
        "  model = stepAIC_python(input_df = X, output_df = Y, input=input)"
      ],
      "execution_count": 26,
      "outputs": []
    },
    {
      "cell_type": "code",
      "metadata": {
        "id": "Zre2tBDCdgJw",
        "outputId": "727d65af-ed32-4dab-8b39-5d407746c502",
        "colab": {
          "base_uri": "https://localhost:8080/",
          "height": 1000
        }
      },
      "source": [
        "fit_hob(df_hob_lincome, input = 'low income')"
      ],
      "execution_count": 27,
      "outputs": [
        {
          "output_type": "stream",
          "text": [
            " \n",
            " \n",
            "-------------------------- Step 0 ---------------------------\n",
            " \n",
            "-Owned. AIC :  1211.35\n",
            "-Income. AIC :  1214.76\n",
            "-D_True. AIC :  1255.77\n",
            "-Members. AIC :  1306.32\n",
            "-Lawn. AIC :  1322.45\n",
            " \n",
            "------ Result: -Owned------\n",
            " \n",
            "------- New selected:  ['Income', 'Lawn', 'Members', 'D_True']\n",
            " \n",
            " \n",
            "-------------------------- Step 1 ---------------------------\n",
            " \n",
            "-Income. AIC :  1212.82\n",
            "+Owned. AIC :  1213.23\n",
            "-D_True. AIC :  1253.93\n",
            "-Members. AIC :  1305.56\n",
            "-Lawn. AIC :  1321.56\n",
            " \n",
            " \n",
            "-------------------------- New Model ---------------------------\n",
            " \n",
            "                            OLS Regression Results                            \n",
            "==============================================================================\n",
            "Dep. Variable:                      Y   R-squared:                       0.750\n",
            "Model:                            OLS   Adj. R-squared:                  0.742\n",
            "Method:                 Least Squares   F-statistic:                     91.40\n",
            "Date:                Sat, 07 Nov 2020   Prob (F-statistic):           9.22e-36\n",
            "Time:                        06:43:09   Log-Likelihood:                -600.68\n",
            "No. Observations:                 127   AIC:                             1211.\n",
            "Df Residuals:                     122   BIC:                             1226.\n",
            "Df Model:                           4                                         \n",
            "Covariance Type:            nonrobust                                         \n",
            "==============================================================================\n",
            "                 coef    std err          t      P>|t|      [0.025      0.975]\n",
            "------------------------------------------------------------------------------\n",
            "const         18.4031     43.168      0.426      0.671     -67.053     103.859\n",
            "Income         1.5140      0.824      1.838      0.069      -0.117       3.145\n",
            "Lawn           0.8528      0.065     13.159      0.000       0.725       0.981\n",
            "Members       18.3484      1.561     11.757      0.000      15.259      21.438\n",
            "D_True       -35.8191      5.001     -7.162      0.000     -45.720     -25.918\n",
            "==============================================================================\n",
            "Omnibus:                        1.851   Durbin-Watson:                   2.009\n",
            "Prob(Omnibus):                  0.396   Jarque-Bera (JB):                1.593\n",
            "Skew:                          -0.274   Prob(JB):                        0.451\n",
            "Kurtosis:                       3.039   Cond. No.                     3.43e+03\n",
            "==============================================================================\n",
            "\n",
            "Warnings:\n",
            "[1] Standard Errors assume that the covariance matrix of the errors is correctly specified.\n",
            "[2] The condition number is large, 3.43e+03. This might indicate that there are\n",
            "strong multicollinearity or other numerical problems.\n"
          ],
          "name": "stdout"
        },
        {
          "output_type": "display_data",
          "data": {
            "image/png": "[encoded data removed]",
            "text/plain": [
              "<Figure size 432x288 with 1 Axes>"
            ]
          },
          "metadata": {
            "tags": [],
            "needs_background": "light"
          }
        }
      ]
    },
    {
      "cell_type": "code",
      "metadata": {
        "id": "6mvy4jKWdjKG",
        "outputId": "41d67065-e086-48c6-9038-83a9c6e63867",
        "colab": {
          "base_uri": "https://localhost:8080/",
          "height": 1000
        }
      },
      "source": [
        "fit_hob(df_hob_hincome, 'high income')"
      ],
      "execution_count": 28,
      "outputs": [
        {
          "output_type": "stream",
          "text": [
            " \n",
            " \n",
            "-------------------------- Step 0 ---------------------------\n",
            " \n",
            "-Owned. AIC :  700.06\n",
            "-Income. AIC :  717.54\n",
            "-D_True. AIC :  726.58\n",
            "-Members. AIC :  758.71\n",
            "-Lawn. AIC :  758.94\n",
            " \n",
            "------ Result: -Owned------\n",
            " \n",
            "------- New selected:  ['Income', 'Lawn', 'Members', 'D_True']\n",
            " \n",
            " \n",
            "-------------------------- Step 1 ---------------------------\n",
            " \n",
            "+Owned. AIC :  700.67\n",
            "-Income. AIC :  716.65\n",
            "-D_True. AIC :  727.17\n",
            "-Members. AIC :  757.71\n",
            "-Lawn. AIC :  758.22\n",
            " \n",
            " \n",
            "-------------------------- New Model ---------------------------\n",
            " \n",
            "                            OLS Regression Results                            \n",
            "==============================================================================\n",
            "Dep. Variable:                      Y   R-squared:                       0.878\n",
            "Model:                            OLS   Adj. R-squared:                  0.870\n",
            "Method:                 Least Squares   F-statistic:                     121.9\n",
            "Date:                Sat, 07 Nov 2020   Prob (F-statistic):           2.96e-30\n",
            "Time:                        06:43:13   Log-Likelihood:                -345.03\n",
            "No. Observations:                  73   AIC:                             700.1\n",
            "Df Residuals:                      68   BIC:                             711.5\n",
            "Df Model:                           4                                         \n",
            "Covariance Type:            nonrobust                                         \n",
            "==============================================================================\n",
            "                 coef    std err          t      P>|t|      [0.025      0.975]\n",
            "------------------------------------------------------------------------------\n",
            "const          9.7458     23.994      0.406      0.686     -38.134      57.626\n",
            "Income         1.8786      0.423      4.440      0.000       1.034       2.723\n",
            "Lawn           0.7174      0.077      9.329      0.000       0.564       0.871\n",
            "Members       20.3150      2.191      9.271      0.000      15.943      24.687\n",
            "D_True       -38.9701      6.752     -5.772      0.000     -52.443     -25.497\n",
            "==============================================================================\n",
            "Omnibus:                        1.342   Durbin-Watson:                   2.103\n",
            "Prob(Omnibus):                  0.511   Jarque-Bera (JB):                1.297\n",
            "Skew:                          -0.208   Prob(JB):                        0.523\n",
            "Kurtosis:                       2.496   Cond. No.                     1.84e+03\n",
            "==============================================================================\n",
            "\n",
            "Warnings:\n",
            "[1] Standard Errors assume that the covariance matrix of the errors is correctly specified.\n",
            "[2] The condition number is large, 1.84e+03. This might indicate that there are\n",
            "strong multicollinearity or other numerical problems.\n"
          ],
          "name": "stdout"
        },
        {
          "output_type": "display_data",
          "data": {
            "image/png": "[encoded data removed]",
            "text/plain": [
              "<Figure size 432x288 with 1 Axes>"
            ]
          },
          "metadata": {
            "tags": [],
            "needs_background": "light"
          }
        }
      ]
    },
    {
      "cell_type": "markdown",
      "metadata": {
        "id": "_yr9m84nceoc"
      },
      "source": [
        "### Lawn"
      ]
    },
    {
      "cell_type": "code",
      "metadata": {
        "id": "dY4r8QaDdobz",
        "outputId": "d83d6d58-7a00-4645-823c-de85e52f07bb",
        "colab": {
          "base_uri": "https://localhost:8080/",
          "height": 419
        }
      },
      "source": [
        "df_hob_llawn = df_hob_dummy[df_hob_dummy['Lawn'] < 203.7]\n",
        "df_hob_llawn"
      ],
      "execution_count": 48,
      "outputs": [
        {
          "output_type": "execute_result",
          "data": {
            "text/html": [
              "<div>\n",
              "<style scoped>\n",
              "    .dataframe tbody tr th:only-of-type {\n",
              "        vertical-align: middle;\n",
              "    }\n",
              "\n",
              "    .dataframe tbody tr th {\n",
              "        vertical-align: top;\n",
              "    }\n",
              "\n",
              "    .dataframe thead th {\n",
              "        text-align: right;\n",
              "    }\n",
              "</style>\n",
              "<table border=\"1\" class=\"dataframe\">\n",
              "  <thead>\n",
              "    <tr style=\"text-align: right;\">\n",
              "      <th></th>\n",
              "      <th>Y</th>\n",
              "      <th>Income</th>\n",
              "      <th>Lawn</th>\n",
              "      <th>Members</th>\n",
              "      <th>Owned</th>\n",
              "      <th>D_True</th>\n",
              "    </tr>\n",
              "  </thead>\n",
              "  <tbody>\n",
              "    <tr>\n",
              "      <th>0</th>\n",
              "      <td>278.958436</td>\n",
              "      <td>50.275071</td>\n",
              "      <td>186.827382</td>\n",
              "      <td>2</td>\n",
              "      <td>1</td>\n",
              "      <td>0</td>\n",
              "    </tr>\n",
              "    <tr>\n",
              "      <th>3</th>\n",
              "      <td>356.563247</td>\n",
              "      <td>68.724770</td>\n",
              "      <td>172.341625</td>\n",
              "      <td>4</td>\n",
              "      <td>0</td>\n",
              "      <td>0</td>\n",
              "    </tr>\n",
              "    <tr>\n",
              "      <th>4</th>\n",
              "      <td>313.379817</td>\n",
              "      <td>58.128274</td>\n",
              "      <td>202.708432</td>\n",
              "      <td>1</td>\n",
              "      <td>0</td>\n",
              "      <td>0</td>\n",
              "    </tr>\n",
              "    <tr>\n",
              "      <th>5</th>\n",
              "      <td>322.393837</td>\n",
              "      <td>55.250037</td>\n",
              "      <td>192.630462</td>\n",
              "      <td>3</td>\n",
              "      <td>0</td>\n",
              "      <td>0</td>\n",
              "    </tr>\n",
              "    <tr>\n",
              "      <th>6</th>\n",
              "      <td>308.746686</td>\n",
              "      <td>50.786556</td>\n",
              "      <td>201.807771</td>\n",
              "      <td>2</td>\n",
              "      <td>0</td>\n",
              "      <td>0</td>\n",
              "    </tr>\n",
              "    <tr>\n",
              "      <th>...</th>\n",
              "      <td>...</td>\n",
              "      <td>...</td>\n",
              "      <td>...</td>\n",
              "      <td>...</td>\n",
              "      <td>...</td>\n",
              "      <td>...</td>\n",
              "    </tr>\n",
              "    <tr>\n",
              "      <th>195</th>\n",
              "      <td>235.250268</td>\n",
              "      <td>55.630055</td>\n",
              "      <td>163.331055</td>\n",
              "      <td>2</td>\n",
              "      <td>0</td>\n",
              "      <td>1</td>\n",
              "    </tr>\n",
              "    <tr>\n",
              "      <th>196</th>\n",
              "      <td>316.363701</td>\n",
              "      <td>52.935452</td>\n",
              "      <td>203.154557</td>\n",
              "      <td>4</td>\n",
              "      <td>1</td>\n",
              "      <td>1</td>\n",
              "    </tr>\n",
              "    <tr>\n",
              "      <th>197</th>\n",
              "      <td>299.513756</td>\n",
              "      <td>50.098517</td>\n",
              "      <td>184.672372</td>\n",
              "      <td>4</td>\n",
              "      <td>0</td>\n",
              "      <td>1</td>\n",
              "    </tr>\n",
              "    <tr>\n",
              "      <th>198</th>\n",
              "      <td>214.738584</td>\n",
              "      <td>54.704270</td>\n",
              "      <td>150.650043</td>\n",
              "      <td>3</td>\n",
              "      <td>1</td>\n",
              "      <td>1</td>\n",
              "    </tr>\n",
              "    <tr>\n",
              "      <th>199</th>\n",
              "      <td>289.825450</td>\n",
              "      <td>60.593029</td>\n",
              "      <td>114.220671</td>\n",
              "      <td>6</td>\n",
              "      <td>0</td>\n",
              "      <td>1</td>\n",
              "    </tr>\n",
              "  </tbody>\n",
              "</table>\n",
              "<p>112 rows × 6 columns</p>\n",
              "</div>"
            ],
            "text/plain": [
              "              Y     Income        Lawn  Members  Owned  D_True\n",
              "0    278.958436  50.275071  186.827382        2      1       0\n",
              "3    356.563247  68.724770  172.341625        4      0       0\n",
              "4    313.379817  58.128274  202.708432        1      0       0\n",
              "5    322.393837  55.250037  192.630462        3      0       0\n",
              "6    308.746686  50.786556  201.807771        2      0       0\n",
              "..          ...        ...         ...      ...    ...     ...\n",
              "195  235.250268  55.630055  163.331055        2      0       1\n",
              "196  316.363701  52.935452  203.154557        4      1       1\n",
              "197  299.513756  50.098517  184.672372        4      0       1\n",
              "198  214.738584  54.704270  150.650043        3      1       1\n",
              "199  289.825450  60.593029  114.220671        6      0       1\n",
              "\n",
              "[112 rows x 6 columns]"
            ]
          },
          "metadata": {
            "tags": []
          },
          "execution_count": 48
        }
      ]
    },
    {
      "cell_type": "code",
      "metadata": {
        "id": "r1UE_BWhetHI",
        "outputId": "6dc326e3-b077-4f16-c799-1afa1c0dd0f8",
        "colab": {
          "base_uri": "https://localhost:8080/",
          "height": 419
        }
      },
      "source": [
        "df_hob_hlawn = df_hob_dummy[df_hob_dummy['Lawn'] > 203.7]\n",
        "df_hob_hlawn"
      ],
      "execution_count": 43,
      "outputs": [
        {
          "output_type": "execute_result",
          "data": {
            "text/html": [
              "<div>\n",
              "<style scoped>\n",
              "    .dataframe tbody tr th:only-of-type {\n",
              "        vertical-align: middle;\n",
              "    }\n",
              "\n",
              "    .dataframe tbody tr th {\n",
              "        vertical-align: top;\n",
              "    }\n",
              "\n",
              "    .dataframe thead th {\n",
              "        text-align: right;\n",
              "    }\n",
              "</style>\n",
              "<table border=\"1\" class=\"dataframe\">\n",
              "  <thead>\n",
              "    <tr style=\"text-align: right;\">\n",
              "      <th></th>\n",
              "      <th>Y</th>\n",
              "      <th>Income</th>\n",
              "      <th>Lawn</th>\n",
              "      <th>Members</th>\n",
              "      <th>Owned</th>\n",
              "      <th>D_True</th>\n",
              "    </tr>\n",
              "  </thead>\n",
              "  <tbody>\n",
              "    <tr>\n",
              "      <th>1</th>\n",
              "      <td>293.875100</td>\n",
              "      <td>65.636335</td>\n",
              "      <td>275.556499</td>\n",
              "      <td>1</td>\n",
              "      <td>1</td>\n",
              "      <td>0</td>\n",
              "    </tr>\n",
              "    <tr>\n",
              "      <th>2</th>\n",
              "      <td>381.081020</td>\n",
              "      <td>68.871837</td>\n",
              "      <td>212.000238</td>\n",
              "      <td>3</td>\n",
              "      <td>0</td>\n",
              "      <td>0</td>\n",
              "    </tr>\n",
              "    <tr>\n",
              "      <th>13</th>\n",
              "      <td>343.918596</td>\n",
              "      <td>59.031864</td>\n",
              "      <td>234.764160</td>\n",
              "      <td>3</td>\n",
              "      <td>0</td>\n",
              "      <td>0</td>\n",
              "    </tr>\n",
              "    <tr>\n",
              "      <th>19</th>\n",
              "      <td>423.853756</td>\n",
              "      <td>64.040979</td>\n",
              "      <td>231.677641</td>\n",
              "      <td>4</td>\n",
              "      <td>1</td>\n",
              "      <td>0</td>\n",
              "    </tr>\n",
              "    <tr>\n",
              "      <th>20</th>\n",
              "      <td>417.092828</td>\n",
              "      <td>79.400276</td>\n",
              "      <td>216.788635</td>\n",
              "      <td>4</td>\n",
              "      <td>0</td>\n",
              "      <td>0</td>\n",
              "    </tr>\n",
              "    <tr>\n",
              "      <th>...</th>\n",
              "      <td>...</td>\n",
              "      <td>...</td>\n",
              "      <td>...</td>\n",
              "      <td>...</td>\n",
              "      <td>...</td>\n",
              "      <td>...</td>\n",
              "    </tr>\n",
              "    <tr>\n",
              "      <th>187</th>\n",
              "      <td>292.758124</td>\n",
              "      <td>55.087391</td>\n",
              "      <td>268.295550</td>\n",
              "      <td>1</td>\n",
              "      <td>1</td>\n",
              "      <td>1</td>\n",
              "    </tr>\n",
              "    <tr>\n",
              "      <th>188</th>\n",
              "      <td>381.596777</td>\n",
              "      <td>57.928706</td>\n",
              "      <td>244.344408</td>\n",
              "      <td>6</td>\n",
              "      <td>1</td>\n",
              "      <td>1</td>\n",
              "    </tr>\n",
              "    <tr>\n",
              "      <th>189</th>\n",
              "      <td>321.018539</td>\n",
              "      <td>52.424664</td>\n",
              "      <td>221.552867</td>\n",
              "      <td>4</td>\n",
              "      <td>1</td>\n",
              "      <td>1</td>\n",
              "    </tr>\n",
              "    <tr>\n",
              "      <th>190</th>\n",
              "      <td>311.396215</td>\n",
              "      <td>56.846546</td>\n",
              "      <td>223.181335</td>\n",
              "      <td>1</td>\n",
              "      <td>0</td>\n",
              "      <td>1</td>\n",
              "    </tr>\n",
              "    <tr>\n",
              "      <th>191</th>\n",
              "      <td>353.093392</td>\n",
              "      <td>64.920654</td>\n",
              "      <td>247.563957</td>\n",
              "      <td>5</td>\n",
              "      <td>1</td>\n",
              "      <td>1</td>\n",
              "    </tr>\n",
              "  </tbody>\n",
              "</table>\n",
              "<p>88 rows × 6 columns</p>\n",
              "</div>"
            ],
            "text/plain": [
              "              Y     Income        Lawn  Members  Owned  D_True\n",
              "1    293.875100  65.636335  275.556499        1      1       0\n",
              "2    381.081020  68.871837  212.000238        3      0       0\n",
              "13   343.918596  59.031864  234.764160        3      0       0\n",
              "19   423.853756  64.040979  231.677641        4      1       0\n",
              "20   417.092828  79.400276  216.788635        4      0       0\n",
              "..          ...        ...         ...      ...    ...     ...\n",
              "187  292.758124  55.087391  268.295550        1      1       1\n",
              "188  381.596777  57.928706  244.344408        6      1       1\n",
              "189  321.018539  52.424664  221.552867        4      1       1\n",
              "190  311.396215  56.846546  223.181335        1      0       1\n",
              "191  353.093392  64.920654  247.563957        5      1       1\n",
              "\n",
              "[88 rows x 6 columns]"
            ]
          },
          "metadata": {
            "tags": []
          },
          "execution_count": 43
        }
      ]
    },
    {
      "cell_type": "code",
      "metadata": {
        "id": "Ucvzd2REosEL",
        "outputId": "b05c4056-62ec-4ddc-a54e-349539d0d9e2",
        "colab": {
          "base_uri": "https://localhost:8080/"
        }
      },
      "source": [
        "df_hob_llawn[df_hob_llawn['D_True'] == 0]['Y'].mean() - df_hob_llawn[df_hob_llawn['D_True'] == 1]['Y'].mean()"
      ],
      "execution_count": 44,
      "outputs": [
        {
          "output_type": "execute_result",
          "data": {
            "text/plain": [
              "45.83212644976936"
            ]
          },
          "metadata": {
            "tags": []
          },
          "execution_count": 44
        }
      ]
    },
    {
      "cell_type": "code",
      "metadata": {
        "id": "SjclGL-rp_Ul",
        "outputId": "ab80d8a1-840d-42be-cbc8-57e8508a97e9",
        "colab": {
          "base_uri": "https://localhost:8080/"
        }
      },
      "source": [
        "df_hob_hlawn[df_hob_hlawn['D_True'] == 0]['Y'].mean()"
      ],
      "execution_count": 52,
      "outputs": [
        {
          "output_type": "execute_result",
          "data": {
            "text/plain": [
              "393.95554966906025"
            ]
          },
          "metadata": {
            "tags": []
          },
          "execution_count": 52
        }
      ]
    },
    {
      "cell_type": "code",
      "metadata": {
        "id": "zPuhE8c8ozSx",
        "outputId": "4f2a5779-22bd-4c9d-ce36-6a89e204a536",
        "colab": {
          "base_uri": "https://localhost:8080/"
        }
      },
      "source": [
        "df_hob_hlawn[df_hob_hlawn['D_True'] == 0]['Y'].mean() - df_hob_hlawn[df_hob_hlawn['D_True'] == 1]['Y'].mean()"
      ],
      "execution_count": 45,
      "outputs": [
        {
          "output_type": "execute_result",
          "data": {
            "text/plain": [
              "58.471743394368275"
            ]
          },
          "metadata": {
            "tags": []
          },
          "execution_count": 45
        }
      ]
    },
    {
      "cell_type": "code",
      "metadata": {
        "id": "3er7QYGiexHO",
        "outputId": "c576b56c-cf49-407e-ba67-411b6b00e08e",
        "colab": {
          "base_uri": "https://localhost:8080/",
          "height": 1000
        }
      },
      "source": [
        "fit_hob(df_hob_llawn, 'small lawn size')"
      ],
      "execution_count": 46,
      "outputs": [
        {
          "output_type": "stream",
          "text": [
            " \n",
            " \n",
            "-------------------------- Step 0 ---------------------------\n",
            " \n",
            "-Owned. AIC :  1075.45\n",
            "-Income. AIC :  1085.7\n",
            "-D_True. AIC :  1113.14\n",
            "-Lawn. AIC :  1131.88\n",
            "-Members. AIC :  1154.96\n",
            " \n",
            "------ Result: -Owned------\n",
            " \n",
            "------- New selected:  ['Income', 'Lawn', 'Members', 'D_True']\n",
            " \n",
            " \n",
            "-------------------------- Step 1 ---------------------------\n",
            " \n",
            "+Owned. AIC :  1077.34\n",
            "-Income. AIC :  1083.74\n",
            "-D_True. AIC :  1111.22\n",
            "-Lawn. AIC :  1130.74\n",
            "-Members. AIC :  1152.97\n",
            " \n",
            " \n",
            "-------------------------- New Model ---------------------------\n",
            " \n",
            "                            OLS Regression Results                            \n",
            "==============================================================================\n",
            "Dep. Variable:                      Y   R-squared:                       0.701\n",
            "Model:                            OLS   Adj. R-squared:                  0.689\n",
            "Method:                 Least Squares   F-statistic:                     62.61\n",
            "Date:                Sat, 07 Nov 2020   Prob (F-statistic):           3.65e-27\n",
            "Time:                        07:37:30   Log-Likelihood:                -532.73\n",
            "No. Observations:                 112   AIC:                             1075.\n",
            "Df Residuals:                     107   BIC:                             1089.\n",
            "Df Model:                           4                                         \n",
            "Covariance Type:            nonrobust                                         \n",
            "==============================================================================\n",
            "                 coef    std err          t      P>|t|      [0.025      0.975]\n",
            "------------------------------------------------------------------------------\n",
            "const         19.6031     30.633      0.640      0.524     -41.123      80.330\n",
            "Income         1.5601      0.486      3.209      0.002       0.596       2.524\n",
            "Lawn           0.8250      0.098      8.453      0.000       0.632       1.019\n",
            "Members       18.5390      1.763     10.518      0.000      15.045      22.033\n",
            "D_True       -36.1366      5.516     -6.551      0.000     -47.072     -25.201\n",
            "==============================================================================\n",
            "Omnibus:                        2.775   Durbin-Watson:                   2.093\n",
            "Prob(Omnibus):                  0.250   Jarque-Bera (JB):                2.527\n",
            "Skew:                          -0.368   Prob(JB):                        0.283\n",
            "Kurtosis:                       2.997   Cond. No.                     2.01e+03\n",
            "==============================================================================\n",
            "\n",
            "Warnings:\n",
            "[1] Standard Errors assume that the covariance matrix of the errors is correctly specified.\n",
            "[2] The condition number is large, 2.01e+03. This might indicate that there are\n",
            "strong multicollinearity or other numerical problems.\n"
          ],
          "name": "stdout"
        },
        {
          "output_type": "display_data",
          "data": {
            "image/png": "[encoded data removed]",
            "text/plain": [
              "<Figure size 432x288 with 1 Axes>"
            ]
          },
          "metadata": {
            "tags": [],
            "needs_background": "light"
          }
        }
      ]
    },
    {
      "cell_type": "code",
      "metadata": {
        "id": "cg8bZL29e4-U",
        "outputId": "3e14a9c4-1743-4e96-b30a-9f8891b896bc",
        "colab": {
          "base_uri": "https://localhost:8080/",
          "height": 1000
        }
      },
      "source": [
        "fit_hob(df_hob_hlawn, 'large lawn size')"
      ],
      "execution_count": 47,
      "outputs": [
        {
          "output_type": "stream",
          "text": [
            " \n",
            " \n",
            "-------------------------- Step 0 ---------------------------\n",
            " \n",
            "-Owned. AIC :  839.86\n",
            "-Income. AIC :  852.43\n",
            "-D_True. AIC :  870.32\n",
            "-Lawn. AIC :  893.68\n",
            "-Members. AIC :  913.61\n",
            " \n",
            "------ Result: -Owned------\n",
            " \n",
            "------- New selected:  ['Income', 'Lawn', 'Members', 'D_True']\n",
            " \n",
            " \n",
            "-------------------------- Step 1 ---------------------------\n",
            " \n",
            "+Owned. AIC :  840.66\n",
            "-Income. AIC :  852.43\n",
            "-D_True. AIC :  871.58\n",
            "-Lawn. AIC :  892.14\n",
            "-Members. AIC :  911.84\n",
            " \n",
            " \n",
            "-------------------------- New Model ---------------------------\n",
            " \n",
            "                            OLS Regression Results                            \n",
            "==============================================================================\n",
            "Dep. Variable:                      Y   R-squared:                       0.843\n",
            "Model:                            OLS   Adj. R-squared:                  0.835\n",
            "Method:                 Least Squares   F-statistic:                     111.0\n",
            "Date:                Sat, 07 Nov 2020   Prob (F-statistic):           1.73e-32\n",
            "Time:                        07:37:33   Log-Likelihood:                -414.93\n",
            "No. Observations:                  88   AIC:                             839.9\n",
            "Df Residuals:                      83   BIC:                             852.2\n",
            "Df Model:                           4                                         \n",
            "Covariance Type:            nonrobust                                         \n",
            "==============================================================================\n",
            "                 coef    std err          t      P>|t|      [0.025      0.975]\n",
            "------------------------------------------------------------------------------\n",
            "const         34.1800     20.638      1.656      0.101      -6.868      75.228\n",
            "Income         1.1946      0.309      3.866      0.000       0.580       1.809\n",
            "Lawn           0.8331      0.099      8.414      0.000       0.636       1.030\n",
            "Members       19.7668      1.890     10.459      0.000      16.008      23.526\n",
            "D_True       -37.8601      6.081     -6.226      0.000     -49.955     -25.765\n",
            "==============================================================================\n",
            "Omnibus:                        0.129   Durbin-Watson:                   2.156\n",
            "Prob(Omnibus):                  0.937   Jarque-Bera (JB):                0.224\n",
            "Skew:                          -0.087   Prob(JB):                        0.894\n",
            "Kurtosis:                       2.824   Cond. No.                     1.84e+03\n",
            "==============================================================================\n",
            "\n",
            "Warnings:\n",
            "[1] Standard Errors assume that the covariance matrix of the errors is correctly specified.\n",
            "[2] The condition number is large, 1.84e+03. This might indicate that there are\n",
            "strong multicollinearity or other numerical problems.\n"
          ],
          "name": "stdout"
        },
        {
          "output_type": "display_data",
          "data": {
            "image/png": "[encoded data removed]",
            "text/plain": [
              "<Figure size 432x288 with 1 Axes>"
            ]
          },
          "metadata": {
            "tags": [],
            "needs_background": "light"
          }
        }
      ]
    },
    {
      "cell_type": "markdown",
      "metadata": {
        "id": "Mrs_mhomcgdt"
      },
      "source": [
        "### Member"
      ]
    },
    {
      "cell_type": "code",
      "metadata": {
        "id": "vfUzjjyHe9v4",
        "outputId": "75c06bd1-20db-4ff5-ae81-4150e4a4f97d",
        "colab": {
          "base_uri": "https://localhost:8080/",
          "height": 419
        }
      },
      "source": [
        "df_hob_lmember = df_hob_dummy[df_hob_dummy['Members'] <= 3]\n",
        "df_hob_lmember"
      ],
      "execution_count": 63,
      "outputs": [
        {
          "output_type": "execute_result",
          "data": {
            "text/html": [
              "<div>\n",
              "<style scoped>\n",
              "    .dataframe tbody tr th:only-of-type {\n",
              "        vertical-align: middle;\n",
              "    }\n",
              "\n",
              "    .dataframe tbody tr th {\n",
              "        vertical-align: top;\n",
              "    }\n",
              "\n",
              "    .dataframe thead th {\n",
              "        text-align: right;\n",
              "    }\n",
              "</style>\n",
              "<table border=\"1\" class=\"dataframe\">\n",
              "  <thead>\n",
              "    <tr style=\"text-align: right;\">\n",
              "      <th></th>\n",
              "      <th>Y</th>\n",
              "      <th>Income</th>\n",
              "      <th>Lawn</th>\n",
              "      <th>Members</th>\n",
              "      <th>Owned</th>\n",
              "      <th>D_True</th>\n",
              "    </tr>\n",
              "  </thead>\n",
              "  <tbody>\n",
              "    <tr>\n",
              "      <th>0</th>\n",
              "      <td>278.958436</td>\n",
              "      <td>50.275071</td>\n",
              "      <td>186.827382</td>\n",
              "      <td>2</td>\n",
              "      <td>1</td>\n",
              "      <td>0</td>\n",
              "    </tr>\n",
              "    <tr>\n",
              "      <th>1</th>\n",
              "      <td>293.875100</td>\n",
              "      <td>65.636335</td>\n",
              "      <td>275.556499</td>\n",
              "      <td>1</td>\n",
              "      <td>1</td>\n",
              "      <td>0</td>\n",
              "    </tr>\n",
              "    <tr>\n",
              "      <th>2</th>\n",
              "      <td>381.081020</td>\n",
              "      <td>68.871837</td>\n",
              "      <td>212.000238</td>\n",
              "      <td>3</td>\n",
              "      <td>0</td>\n",
              "      <td>0</td>\n",
              "    </tr>\n",
              "    <tr>\n",
              "      <th>4</th>\n",
              "      <td>313.379817</td>\n",
              "      <td>58.128274</td>\n",
              "      <td>202.708432</td>\n",
              "      <td>1</td>\n",
              "      <td>0</td>\n",
              "      <td>0</td>\n",
              "    </tr>\n",
              "    <tr>\n",
              "      <th>5</th>\n",
              "      <td>322.393837</td>\n",
              "      <td>55.250037</td>\n",
              "      <td>192.630462</td>\n",
              "      <td>3</td>\n",
              "      <td>0</td>\n",
              "      <td>0</td>\n",
              "    </tr>\n",
              "    <tr>\n",
              "      <th>...</th>\n",
              "      <td>...</td>\n",
              "      <td>...</td>\n",
              "      <td>...</td>\n",
              "      <td>...</td>\n",
              "      <td>...</td>\n",
              "      <td>...</td>\n",
              "    </tr>\n",
              "    <tr>\n",
              "      <th>190</th>\n",
              "      <td>311.396215</td>\n",
              "      <td>56.846546</td>\n",
              "      <td>223.181335</td>\n",
              "      <td>1</td>\n",
              "      <td>0</td>\n",
              "      <td>1</td>\n",
              "    </tr>\n",
              "    <tr>\n",
              "      <th>192</th>\n",
              "      <td>247.727165</td>\n",
              "      <td>53.596982</td>\n",
              "      <td>154.264625</td>\n",
              "      <td>2</td>\n",
              "      <td>1</td>\n",
              "      <td>1</td>\n",
              "    </tr>\n",
              "    <tr>\n",
              "      <th>193</th>\n",
              "      <td>266.804812</td>\n",
              "      <td>51.813351</td>\n",
              "      <td>158.300217</td>\n",
              "      <td>2</td>\n",
              "      <td>0</td>\n",
              "      <td>1</td>\n",
              "    </tr>\n",
              "    <tr>\n",
              "      <th>195</th>\n",
              "      <td>235.250268</td>\n",
              "      <td>55.630055</td>\n",
              "      <td>163.331055</td>\n",
              "      <td>2</td>\n",
              "      <td>0</td>\n",
              "      <td>1</td>\n",
              "    </tr>\n",
              "    <tr>\n",
              "      <th>198</th>\n",
              "      <td>214.738584</td>\n",
              "      <td>54.704270</td>\n",
              "      <td>150.650043</td>\n",
              "      <td>3</td>\n",
              "      <td>1</td>\n",
              "      <td>1</td>\n",
              "    </tr>\n",
              "  </tbody>\n",
              "</table>\n",
              "<p>121 rows × 6 columns</p>\n",
              "</div>"
            ],
            "text/plain": [
              "              Y     Income        Lawn  Members  Owned  D_True\n",
              "0    278.958436  50.275071  186.827382        2      1       0\n",
              "1    293.875100  65.636335  275.556499        1      1       0\n",
              "2    381.081020  68.871837  212.000238        3      0       0\n",
              "4    313.379817  58.128274  202.708432        1      0       0\n",
              "5    322.393837  55.250037  192.630462        3      0       0\n",
              "..          ...        ...         ...      ...    ...     ...\n",
              "190  311.396215  56.846546  223.181335        1      0       1\n",
              "192  247.727165  53.596982  154.264625        2      1       1\n",
              "193  266.804812  51.813351  158.300217        2      0       1\n",
              "195  235.250268  55.630055  163.331055        2      0       1\n",
              "198  214.738584  54.704270  150.650043        3      1       1\n",
              "\n",
              "[121 rows x 6 columns]"
            ]
          },
          "metadata": {
            "tags": []
          },
          "execution_count": 63
        }
      ]
    },
    {
      "cell_type": "code",
      "metadata": {
        "id": "ZGQRNoyHgHkU",
        "outputId": "4c6bb6fe-eae8-4f43-ea3f-0a7a5df8c5ab",
        "colab": {
          "base_uri": "https://localhost:8080/",
          "height": 419
        }
      },
      "source": [
        "df_hob_hmember = df_hob_dummy[df_hob_dummy['Members'] > 3]\n",
        "df_hob_hmember"
      ],
      "execution_count": 64,
      "outputs": [
        {
          "output_type": "execute_result",
          "data": {
            "text/html": [
              "<div>\n",
              "<style scoped>\n",
              "    .dataframe tbody tr th:only-of-type {\n",
              "        vertical-align: middle;\n",
              "    }\n",
              "\n",
              "    .dataframe tbody tr th {\n",
              "        vertical-align: top;\n",
              "    }\n",
              "\n",
              "    .dataframe thead th {\n",
              "        text-align: right;\n",
              "    }\n",
              "</style>\n",
              "<table border=\"1\" class=\"dataframe\">\n",
              "  <thead>\n",
              "    <tr style=\"text-align: right;\">\n",
              "      <th></th>\n",
              "      <th>Y</th>\n",
              "      <th>Income</th>\n",
              "      <th>Lawn</th>\n",
              "      <th>Members</th>\n",
              "      <th>Owned</th>\n",
              "      <th>D_True</th>\n",
              "    </tr>\n",
              "  </thead>\n",
              "  <tbody>\n",
              "    <tr>\n",
              "      <th>3</th>\n",
              "      <td>356.563247</td>\n",
              "      <td>68.724770</td>\n",
              "      <td>172.341625</td>\n",
              "      <td>4</td>\n",
              "      <td>0</td>\n",
              "      <td>0</td>\n",
              "    </tr>\n",
              "    <tr>\n",
              "      <th>7</th>\n",
              "      <td>329.263811</td>\n",
              "      <td>56.216763</td>\n",
              "      <td>127.383957</td>\n",
              "      <td>4</td>\n",
              "      <td>0</td>\n",
              "      <td>0</td>\n",
              "    </tr>\n",
              "    <tr>\n",
              "      <th>9</th>\n",
              "      <td>339.681833</td>\n",
              "      <td>50.735909</td>\n",
              "      <td>154.861001</td>\n",
              "      <td>4</td>\n",
              "      <td>1</td>\n",
              "      <td>0</td>\n",
              "    </tr>\n",
              "    <tr>\n",
              "      <th>11</th>\n",
              "      <td>384.240269</td>\n",
              "      <td>59.647823</td>\n",
              "      <td>195.574590</td>\n",
              "      <td>4</td>\n",
              "      <td>1</td>\n",
              "      <td>0</td>\n",
              "    </tr>\n",
              "    <tr>\n",
              "      <th>12</th>\n",
              "      <td>334.329564</td>\n",
              "      <td>56.049371</td>\n",
              "      <td>145.449021</td>\n",
              "      <td>6</td>\n",
              "      <td>1</td>\n",
              "      <td>0</td>\n",
              "    </tr>\n",
              "    <tr>\n",
              "      <th>...</th>\n",
              "      <td>...</td>\n",
              "      <td>...</td>\n",
              "      <td>...</td>\n",
              "      <td>...</td>\n",
              "      <td>...</td>\n",
              "      <td>...</td>\n",
              "    </tr>\n",
              "    <tr>\n",
              "      <th>191</th>\n",
              "      <td>353.093392</td>\n",
              "      <td>64.920654</td>\n",
              "      <td>247.563957</td>\n",
              "      <td>5</td>\n",
              "      <td>1</td>\n",
              "      <td>1</td>\n",
              "    </tr>\n",
              "    <tr>\n",
              "      <th>194</th>\n",
              "      <td>292.611869</td>\n",
              "      <td>63.343908</td>\n",
              "      <td>162.315528</td>\n",
              "      <td>4</td>\n",
              "      <td>0</td>\n",
              "      <td>1</td>\n",
              "    </tr>\n",
              "    <tr>\n",
              "      <th>196</th>\n",
              "      <td>316.363701</td>\n",
              "      <td>52.935452</td>\n",
              "      <td>203.154557</td>\n",
              "      <td>4</td>\n",
              "      <td>1</td>\n",
              "      <td>1</td>\n",
              "    </tr>\n",
              "    <tr>\n",
              "      <th>197</th>\n",
              "      <td>299.513756</td>\n",
              "      <td>50.098517</td>\n",
              "      <td>184.672372</td>\n",
              "      <td>4</td>\n",
              "      <td>0</td>\n",
              "      <td>1</td>\n",
              "    </tr>\n",
              "    <tr>\n",
              "      <th>199</th>\n",
              "      <td>289.825450</td>\n",
              "      <td>60.593029</td>\n",
              "      <td>114.220671</td>\n",
              "      <td>6</td>\n",
              "      <td>0</td>\n",
              "      <td>1</td>\n",
              "    </tr>\n",
              "  </tbody>\n",
              "</table>\n",
              "<p>79 rows × 6 columns</p>\n",
              "</div>"
            ],
            "text/plain": [
              "              Y     Income        Lawn  Members  Owned  D_True\n",
              "3    356.563247  68.724770  172.341625        4      0       0\n",
              "7    329.263811  56.216763  127.383957        4      0       0\n",
              "9    339.681833  50.735909  154.861001        4      1       0\n",
              "11   384.240269  59.647823  195.574590        4      1       0\n",
              "12   334.329564  56.049371  145.449021        6      1       0\n",
              "..          ...        ...         ...      ...    ...     ...\n",
              "191  353.093392  64.920654  247.563957        5      1       1\n",
              "194  292.611869  63.343908  162.315528        4      0       1\n",
              "196  316.363701  52.935452  203.154557        4      1       1\n",
              "197  299.513756  50.098517  184.672372        4      0       1\n",
              "199  289.825450  60.593029  114.220671        6      0       1\n",
              "\n",
              "[79 rows x 6 columns]"
            ]
          },
          "metadata": {
            "tags": []
          },
          "execution_count": 64
        }
      ]
    },
    {
      "cell_type": "code",
      "metadata": {
        "id": "zSIQQ7oMgLvz",
        "outputId": "aee27393-9a6b-44f9-de90-3fddb3a8135b",
        "colab": {
          "base_uri": "https://localhost:8080/",
          "height": 1000
        }
      },
      "source": [
        "fit_hob(df_hob_lmember, 'low member size')"
      ],
      "execution_count": 65,
      "outputs": [
        {
          "output_type": "stream",
          "text": [
            " \n",
            " \n",
            "-------------------------- Step 0 ---------------------------\n",
            " \n",
            "-Owned. AIC :  1157.09\n",
            "-Income. AIC :  1178.11\n",
            "-Members. AIC :  1181.8\n",
            "-D_True. AIC :  1192.15\n",
            "-Lawn. AIC :  1255.79\n",
            " \n",
            "------ Result: -Owned------\n",
            " \n",
            "------- New selected:  ['Income', 'Lawn', 'Members', 'D_True']\n",
            " \n",
            " \n",
            "-------------------------- Step 1 ---------------------------\n",
            " \n",
            "+Owned. AIC :  1159.09\n",
            "-Income. AIC :  1176.43\n",
            "-Members. AIC :  1179.97\n",
            "-D_True. AIC :  1190.41\n",
            "-Lawn. AIC :  1253.79\n",
            " \n",
            " \n",
            "-------------------------- New Model ---------------------------\n",
            " \n",
            "                            OLS Regression Results                            \n",
            "==============================================================================\n",
            "Dep. Variable:                      Y   R-squared:                       0.804\n",
            "Model:                            OLS   Adj. R-squared:                  0.797\n",
            "Method:                 Least Squares   F-statistic:                     119.0\n",
            "Date:                Sat, 07 Nov 2020   Prob (F-statistic):           4.20e-40\n",
            "Time:                        09:18:45   Log-Likelihood:                -573.55\n",
            "No. Observations:                 121   AIC:                             1157.\n",
            "Df Residuals:                     116   BIC:                             1171.\n",
            "Df Model:                           4                                         \n",
            "Covariance Type:            nonrobust                                         \n",
            "==============================================================================\n",
            "                 coef    std err          t      P>|t|      [0.025      0.975]\n",
            "------------------------------------------------------------------------------\n",
            "const         39.6600     16.797      2.361      0.020       6.392      72.928\n",
            "Income         1.4856      0.314      4.730      0.000       0.864       2.108\n",
            "Lawn           0.7490      0.062     12.093      0.000       0.626       0.872\n",
            "Members       16.4188      3.191      5.146      0.000      10.099      22.739\n",
            "D_True       -32.5841      5.196     -6.271      0.000     -42.876     -22.293\n",
            "==============================================================================\n",
            "Omnibus:                        0.957   Durbin-Watson:                   2.045\n",
            "Prob(Omnibus):                  0.620   Jarque-Bera (JB):                0.870\n",
            "Skew:                          -0.206   Prob(JB):                        0.647\n",
            "Kurtosis:                       2.942   Cond. No.                     1.46e+03\n",
            "==============================================================================\n",
            "\n",
            "Warnings:\n",
            "[1] Standard Errors assume that the covariance matrix of the errors is correctly specified.\n",
            "[2] The condition number is large, 1.46e+03. This might indicate that there are\n",
            "strong multicollinearity or other numerical problems.\n"
          ],
          "name": "stdout"
        },
        {
          "output_type": "display_data",
          "data": {
            "image/png": "[encoded data removed]",
            "text/plain": [
              "<Figure size 432x288 with 1 Axes>"
            ]
          },
          "metadata": {
            "tags": [],
            "needs_background": "light"
          }
        }
      ]
    },
    {
      "cell_type": "code",
      "metadata": {
        "id": "ab4Nr3j1gTV6",
        "outputId": "f086f8a1-4aa0-40e5-9e3b-c7122e9f8394",
        "colab": {
          "base_uri": "https://localhost:8080/",
          "height": 1000
        }
      },
      "source": [
        "fit_hob(df_hob_hmember, 'high member size')"
      ],
      "execution_count": 66,
      "outputs": [
        {
          "output_type": "stream",
          "text": [
            " \n",
            " \n",
            "-------------------------- Step 0 ---------------------------\n",
            " \n",
            "-Owned. AIC :  751.98\n",
            "-Income. AIC :  758.66\n",
            "-Members. AIC :  787.58\n",
            "-D_True. AIC :  789.28\n",
            "-Lawn. AIC :  828.53\n",
            " \n",
            "------ Result: -Owned------\n",
            " \n",
            "------- New selected:  ['Income', 'Lawn', 'Members', 'D_True']\n",
            " \n",
            " \n",
            "-------------------------- Step 1 ---------------------------\n",
            " \n",
            "+Owned. AIC :  753.57\n",
            "-Income. AIC :  757.4\n",
            "-Members. AIC :  785.62\n",
            "-D_True. AIC :  789.42\n",
            "-Lawn. AIC :  826.62\n",
            " \n",
            " \n",
            "-------------------------- New Model ---------------------------\n",
            " \n",
            "                            OLS Regression Results                            \n",
            "==============================================================================\n",
            "Dep. Variable:                      Y   R-squared:                       0.868\n",
            "Model:                            OLS   Adj. R-squared:                  0.861\n",
            "Method:                 Least Squares   F-statistic:                     121.9\n",
            "Date:                Sat, 07 Nov 2020   Prob (F-statistic):           9.04e-32\n",
            "Time:                        09:18:48   Log-Likelihood:                -370.99\n",
            "No. Observations:                  79   AIC:                             752.0\n",
            "Df Residuals:                      74   BIC:                             763.8\n",
            "Df Model:                           4                                         \n",
            "Covariance Type:            nonrobust                                         \n",
            "==============================================================================\n",
            "                 coef    std err          t      P>|t|      [0.025      0.975]\n",
            "------------------------------------------------------------------------------\n",
            "const         15.7055     23.591      0.666      0.508     -31.301      62.712\n",
            "Income         0.9944      0.368      2.700      0.009       0.261       1.728\n",
            "Lawn           0.8828      0.080     11.011      0.000       0.723       1.043\n",
            "Members       24.6038      3.788      6.496      0.000      17.056      32.151\n",
            "D_True       -43.1911      6.239     -6.923      0.000     -55.623     -30.759\n",
            "==============================================================================\n",
            "Omnibus:                        2.590   Durbin-Watson:                   2.018\n",
            "Prob(Omnibus):                  0.274   Jarque-Bera (JB):                2.029\n",
            "Skew:                          -0.383   Prob(JB):                        0.363\n",
            "Kurtosis:                       3.176   Cond. No.                     1.66e+03\n",
            "==============================================================================\n",
            "\n",
            "Warnings:\n",
            "[1] Standard Errors assume that the covariance matrix of the errors is correctly specified.\n",
            "[2] The condition number is large, 1.66e+03. This might indicate that there are\n",
            "strong multicollinearity or other numerical problems.\n"
          ],
          "name": "stdout"
        },
        {
          "output_type": "display_data",
          "data": {
            "image/png": "[encoded data removed]",
            "text/plain": [
              "<Figure size 432x288 with 1 Axes>"
            ]
          },
          "metadata": {
            "tags": [],
            "needs_background": "light"
          }
        }
      ]
    },
    {
      "cell_type": "markdown",
      "metadata": {
        "id": "jd7KF5xPBqa-"
      },
      "source": [
        "### Comparison"
      ]
    },
    {
      "cell_type": "code",
      "metadata": {
        "id": "Tz_2TV3uBpwF",
        "outputId": "15b79293-c2d8-4507-fc6b-4518fae39587",
        "colab": {
          "base_uri": "https://localhost:8080/",
          "height": 338
        }
      },
      "source": [
        "x = np.arange(len(train_performance))\n",
        "width = 0.2\n",
        "\n",
        "plt.figure(figsize = (12, 3.5))\n",
        "plt.ylim = 1.3\n",
        "train_performance = {'Income': [35.8], 'Lawn': [36.1], 'Members': [32.6]}\n",
        "val_performance = {'Income': [38.9], 'Lawn': [37.8], 'Members': [43.2]}\n",
        "train_acc = [v[0] for _, v in sorted(train_performance.items(), key = lambda x: x[0])]\n",
        "val_acc = [v[0] for _, v in sorted(val_performance.items(), key = lambda x: x[0])]\n",
        "\n",
        "plt.bar(x - 0.12, train_acc, width, label='small group')\n",
        "plt.bar(x + 0.12, val_acc, width, label='large group')\n",
        "\n",
        "  # Label Tops of Bars\n",
        "for index, value in enumerate(train_acc):\n",
        "  plt.text(index - 0.16, value + 0.015, str(value)[0:4])\n",
        "for index, value in enumerate(val_acc):\n",
        "  plt.text(index + 0.06, value + 0.015, str(value)[0:4])\n",
        "\n",
        "  # Configure rest of plot to look nice\n",
        "plt.xticks(ticks=x, labels=sorted(train_performance.keys()),\n",
        "            rotation=45, fontsize = 10)\n",
        "plt.axes().set_ylim(0,50)\n",
        "plt.ylabel('ATE', fontsize = 10)\n",
        "plt.legend(loc = 'lower right')\n",
        "plt.title(' ATE comparison of the variables')"
      ],
      "execution_count": 78,
      "outputs": [
        {
          "output_type": "stream",
          "text": [
            "/usr/local/lib/python3.6/dist-packages/ipykernel_launcher.py:23: MatplotlibDeprecationWarning: Adding an axes using the same arguments as a previous axes currently reuses the earlier instance.  In a future version, a new instance will always be created and returned.  Meanwhile, this warning can be suppressed, and the future behavior ensured, by passing a unique label to each axes instance.\n"
          ],
          "name": "stderr"
        },
        {
          "output_type": "execute_result",
          "data": {
            "text/plain": [
              "Text(0.5, 1.0, ' ATE comparison of the variables')"
            ]
          },
          "metadata": {
            "tags": []
          },
          "execution_count": 78
        },
        {
          "output_type": "display_data",
          "data": {
            "image/png": "[encoded data removed]",
            "text/plain": [
              "<Figure size 864x252 with 1 Axes>"
            ]
          },
          "metadata": {
            "tags": [],
            "needs_background": "light"
          }
        }
      ]
    },
    {
      "cell_type": "markdown",
      "metadata": {
        "id": "dh8z8CCkFdQS"
      },
      "source": [
        "## Res"
      ]
    },
    {
      "cell_type": "code",
      "metadata": {
        "id": "lu7eUb1BI6Ci"
      },
      "source": [
        "df_res.corr()"
      ],
      "execution_count": null,
      "outputs": []
    },
    {
      "cell_type": "markdown",
      "metadata": {
        "id": "2CpQ2fFBK_Jj"
      },
      "source": [
        "### Average"
      ]
    },
    {
      "cell_type": "code",
      "metadata": {
        "id": "2qojqXqsLE5R",
        "outputId": "2c617393-77f0-4dd9-9827-db2a982e4724",
        "colab": {
          "base_uri": "https://localhost:8080/",
          "height": 297
        }
      },
      "source": [
        "df_res[df_res['D'] == False].describe()"
      ],
      "execution_count": 8,
      "outputs": [
        {
          "output_type": "execute_result",
          "data": {
            "text/html": [
              "<div>\n",
              "<style scoped>\n",
              "    .dataframe tbody tr th:only-of-type {\n",
              "        vertical-align: middle;\n",
              "    }\n",
              "\n",
              "    .dataframe tbody tr th {\n",
              "        vertical-align: top;\n",
              "    }\n",
              "\n",
              "    .dataframe thead th {\n",
              "        text-align: right;\n",
              "    }\n",
              "</style>\n",
              "<table border=\"1\" class=\"dataframe\">\n",
              "  <thead>\n",
              "    <tr style=\"text-align: right;\">\n",
              "      <th></th>\n",
              "      <th>Y</th>\n",
              "      <th>Members</th>\n",
              "      <th>Owned</th>\n",
              "    </tr>\n",
              "  </thead>\n",
              "  <tbody>\n",
              "    <tr>\n",
              "      <th>count</th>\n",
              "      <td>100.000000</td>\n",
              "      <td>100.000000</td>\n",
              "      <td>100.000000</td>\n",
              "    </tr>\n",
              "    <tr>\n",
              "      <th>mean</th>\n",
              "      <td>319.808451</td>\n",
              "      <td>2.960000</td>\n",
              "      <td>0.530000</td>\n",
              "    </tr>\n",
              "    <tr>\n",
              "      <th>std</th>\n",
              "      <td>56.651659</td>\n",
              "      <td>1.543445</td>\n",
              "      <td>0.501614</td>\n",
              "    </tr>\n",
              "    <tr>\n",
              "      <th>min</th>\n",
              "      <td>198.697873</td>\n",
              "      <td>1.000000</td>\n",
              "      <td>0.000000</td>\n",
              "    </tr>\n",
              "    <tr>\n",
              "      <th>25%</th>\n",
              "      <td>277.840286</td>\n",
              "      <td>1.000000</td>\n",
              "      <td>0.000000</td>\n",
              "    </tr>\n",
              "    <tr>\n",
              "      <th>50%</th>\n",
              "      <td>322.071653</td>\n",
              "      <td>3.000000</td>\n",
              "      <td>1.000000</td>\n",
              "    </tr>\n",
              "    <tr>\n",
              "      <th>75%</th>\n",
              "      <td>359.517403</td>\n",
              "      <td>4.000000</td>\n",
              "      <td>1.000000</td>\n",
              "    </tr>\n",
              "    <tr>\n",
              "      <th>max</th>\n",
              "      <td>471.972188</td>\n",
              "      <td>6.000000</td>\n",
              "      <td>1.000000</td>\n",
              "    </tr>\n",
              "  </tbody>\n",
              "</table>\n",
              "</div>"
            ],
            "text/plain": [
              "                Y     Members       Owned\n",
              "count  100.000000  100.000000  100.000000\n",
              "mean   319.808451    2.960000    0.530000\n",
              "std     56.651659    1.543445    0.501614\n",
              "min    198.697873    1.000000    0.000000\n",
              "25%    277.840286    1.000000    0.000000\n",
              "50%    322.071653    3.000000    1.000000\n",
              "75%    359.517403    4.000000    1.000000\n",
              "max    471.972188    6.000000    1.000000"
            ]
          },
          "metadata": {
            "tags": []
          },
          "execution_count": 8
        }
      ]
    },
    {
      "cell_type": "code",
      "metadata": {
        "id": "WWomcXdaLHxv",
        "outputId": "2e650745-b6c5-4eac-df60-81664442a809",
        "colab": {
          "base_uri": "https://localhost:8080/",
          "height": 297
        }
      },
      "source": [
        "df_res[df_res['D'] == True].describe()"
      ],
      "execution_count": 9,
      "outputs": [
        {
          "output_type": "execute_result",
          "data": {
            "text/html": [
              "<div>\n",
              "<style scoped>\n",
              "    .dataframe tbody tr th:only-of-type {\n",
              "        vertical-align: middle;\n",
              "    }\n",
              "\n",
              "    .dataframe tbody tr th {\n",
              "        vertical-align: top;\n",
              "    }\n",
              "\n",
              "    .dataframe thead th {\n",
              "        text-align: right;\n",
              "    }\n",
              "</style>\n",
              "<table border=\"1\" class=\"dataframe\">\n",
              "  <thead>\n",
              "    <tr style=\"text-align: right;\">\n",
              "      <th></th>\n",
              "      <th>Y</th>\n",
              "      <th>Members</th>\n",
              "      <th>Owned</th>\n",
              "    </tr>\n",
              "  </thead>\n",
              "  <tbody>\n",
              "    <tr>\n",
              "      <th>count</th>\n",
              "      <td>100.000000</td>\n",
              "      <td>100.000000</td>\n",
              "      <td>100.00</td>\n",
              "    </tr>\n",
              "    <tr>\n",
              "      <th>mean</th>\n",
              "      <td>323.288283</td>\n",
              "      <td>3.270000</td>\n",
              "      <td>0.55</td>\n",
              "    </tr>\n",
              "    <tr>\n",
              "      <th>std</th>\n",
              "      <td>61.909011</td>\n",
              "      <td>1.556057</td>\n",
              "      <td>0.50</td>\n",
              "    </tr>\n",
              "    <tr>\n",
              "      <th>min</th>\n",
              "      <td>177.381157</td>\n",
              "      <td>1.000000</td>\n",
              "      <td>0.00</td>\n",
              "    </tr>\n",
              "    <tr>\n",
              "      <th>25%</th>\n",
              "      <td>286.608889</td>\n",
              "      <td>2.000000</td>\n",
              "      <td>0.00</td>\n",
              "    </tr>\n",
              "    <tr>\n",
              "      <th>50%</th>\n",
              "      <td>320.559123</td>\n",
              "      <td>3.000000</td>\n",
              "      <td>1.00</td>\n",
              "    </tr>\n",
              "    <tr>\n",
              "      <th>75%</th>\n",
              "      <td>360.314448</td>\n",
              "      <td>4.000000</td>\n",
              "      <td>1.00</td>\n",
              "    </tr>\n",
              "    <tr>\n",
              "      <th>max</th>\n",
              "      <td>474.520086</td>\n",
              "      <td>6.000000</td>\n",
              "      <td>1.00</td>\n",
              "    </tr>\n",
              "  </tbody>\n",
              "</table>\n",
              "</div>"
            ],
            "text/plain": [
              "                Y     Members   Owned\n",
              "count  100.000000  100.000000  100.00\n",
              "mean   323.288283    3.270000    0.55\n",
              "std     61.909011    1.556057    0.50\n",
              "min    177.381157    1.000000    0.00\n",
              "25%    286.608889    2.000000    0.00\n",
              "50%    320.559123    3.000000    1.00\n",
              "75%    360.314448    4.000000    1.00\n",
              "max    474.520086    6.000000    1.00"
            ]
          },
          "metadata": {
            "tags": []
          },
          "execution_count": 9
        }
      ]
    },
    {
      "cell_type": "code",
      "metadata": {
        "id": "yAIDAShSSB_E",
        "outputId": "7a964ba4-a66f-46a9-9a5e-35c6b0216fdf",
        "colab": {
          "base_uri": "https://localhost:8080/"
        }
      },
      "source": [
        "df_res[df_res['D'] == False]['Members'].mean() - df_res[df_res['D'] == True]['Members'].mean()"
      ],
      "execution_count": 14,
      "outputs": [
        {
          "output_type": "execute_result",
          "data": {
            "text/plain": [
              "-0.31000000000000005"
            ]
          },
          "metadata": {
            "tags": []
          },
          "execution_count": 14
        }
      ]
    },
    {
      "cell_type": "markdown",
      "metadata": {
        "id": "MEC3V0uwLA86"
      },
      "source": [
        "### Regression"
      ]
    },
    {
      "cell_type": "code",
      "metadata": {
        "id": "4Eil8XSUJmk_",
        "outputId": "ed1baf27-e043-4f56-f49f-dbb9a4b1db1e",
        "colab": {
          "base_uri": "https://localhost:8080/",
          "height": 204
        }
      },
      "source": [
        "df_res_dummy = pd.get_dummies(df_res, columns=['D'])\n",
        "df_res_dummy.head()"
      ],
      "execution_count": 10,
      "outputs": [
        {
          "output_type": "execute_result",
          "data": {
            "text/html": [
              "<div>\n",
              "<style scoped>\n",
              "    .dataframe tbody tr th:only-of-type {\n",
              "        vertical-align: middle;\n",
              "    }\n",
              "\n",
              "    .dataframe tbody tr th {\n",
              "        vertical-align: top;\n",
              "    }\n",
              "\n",
              "    .dataframe thead th {\n",
              "        text-align: right;\n",
              "    }\n",
              "</style>\n",
              "<table border=\"1\" class=\"dataframe\">\n",
              "  <thead>\n",
              "    <tr style=\"text-align: right;\">\n",
              "      <th></th>\n",
              "      <th>Y</th>\n",
              "      <th>Members</th>\n",
              "      <th>Owned</th>\n",
              "      <th>D_False</th>\n",
              "      <th>D_True</th>\n",
              "    </tr>\n",
              "  </thead>\n",
              "  <tbody>\n",
              "    <tr>\n",
              "      <th>0</th>\n",
              "      <td>264.271485</td>\n",
              "      <td>2</td>\n",
              "      <td>0</td>\n",
              "      <td>1</td>\n",
              "      <td>0</td>\n",
              "    </tr>\n",
              "    <tr>\n",
              "      <th>1</th>\n",
              "      <td>375.229551</td>\n",
              "      <td>3</td>\n",
              "      <td>1</td>\n",
              "      <td>1</td>\n",
              "      <td>0</td>\n",
              "    </tr>\n",
              "    <tr>\n",
              "      <th>2</th>\n",
              "      <td>256.447818</td>\n",
              "      <td>1</td>\n",
              "      <td>1</td>\n",
              "      <td>1</td>\n",
              "      <td>0</td>\n",
              "    </tr>\n",
              "    <tr>\n",
              "      <th>3</th>\n",
              "      <td>325.701571</td>\n",
              "      <td>5</td>\n",
              "      <td>0</td>\n",
              "      <td>1</td>\n",
              "      <td>0</td>\n",
              "    </tr>\n",
              "    <tr>\n",
              "      <th>4</th>\n",
              "      <td>257.237800</td>\n",
              "      <td>2</td>\n",
              "      <td>1</td>\n",
              "      <td>0</td>\n",
              "      <td>1</td>\n",
              "    </tr>\n",
              "  </tbody>\n",
              "</table>\n",
              "</div>"
            ],
            "text/plain": [
              "            Y  Members  Owned  D_False  D_True\n",
              "0  264.271485        2      0        1       0\n",
              "1  375.229551        3      1        1       0\n",
              "2  256.447818        1      1        1       0\n",
              "3  325.701571        5      0        1       0\n",
              "4  257.237800        2      1        0       1"
            ]
          },
          "metadata": {
            "tags": []
          },
          "execution_count": 10
        }
      ]
    },
    {
      "cell_type": "code",
      "metadata": {
        "id": "Q9JZWTY7J0KW"
      },
      "source": [
        "df_res_dummy.drop(columns=['D_False'], inplace = True)"
      ],
      "execution_count": 11,
      "outputs": []
    },
    {
      "cell_type": "code",
      "metadata": {
        "id": "e4Sjq9P6J4Dw",
        "outputId": "9c4e3f06-b2f1-41ae-f8ba-cb73f6856005",
        "colab": {
          "base_uri": "https://localhost:8080/"
        }
      },
      "source": [
        "Y = df_res_dummy['Y']\n",
        "X = df_res_dummy.loc[:, ['Members', 'Owned', 'D_True']]\n",
        "X = sm.add_constant(X)\n",
        "model = sm.OLS(Y,X)\n",
        "results = model.fit()\n",
        "print(results.summary())"
      ],
      "execution_count": 12,
      "outputs": [
        {
          "output_type": "stream",
          "text": [
            "                            OLS Regression Results                            \n",
            "==============================================================================\n",
            "Dep. Variable:                      Y   R-squared:                       0.179\n",
            "Model:                            OLS   Adj. R-squared:                  0.167\n",
            "Method:                 Least Squares   F-statistic:                     14.27\n",
            "Date:                Sat, 07 Nov 2020   Prob (F-statistic):           1.91e-08\n",
            "Time:                        22:16:38   Log-Likelihood:                -1079.8\n",
            "No. Observations:                 200   AIC:                             2168.\n",
            "Df Residuals:                     196   BIC:                             2181.\n",
            "Df Model:                           3                                         \n",
            "Covariance Type:            nonrobust                                         \n",
            "==============================================================================\n",
            "                 coef    std err          t      P>|t|      [0.025      0.975]\n",
            "------------------------------------------------------------------------------\n",
            "const        269.4699      9.994     26.965      0.000     249.761     289.178\n",
            "Members       16.1024      2.479      6.496      0.000      11.214      20.991\n",
            "Owned          5.0483      7.671      0.658      0.511     -10.080      20.176\n",
            "D_True        -1.6129      7.685     -0.210      0.834     -16.768      13.543\n",
            "==============================================================================\n",
            "Omnibus:                        1.063   Durbin-Watson:                   1.349\n",
            "Prob(Omnibus):                  0.588   Jarque-Bera (JB):                1.001\n",
            "Skew:                           0.172   Prob(JB):                        0.606\n",
            "Kurtosis:                       2.964   Cond. No.                         10.7\n",
            "==============================================================================\n",
            "\n",
            "Warnings:\n",
            "[1] Standard Errors assume that the covariance matrix of the errors is correctly specified.\n"
          ],
          "name": "stdout"
        }
      ]
    },
    {
      "cell_type": "code",
      "metadata": {
        "id": "d9A__D4wKA6d",
        "outputId": "2c08beff-06f7-4721-cd9c-155dac3c3bf7",
        "colab": {
          "base_uri": "https://localhost:8080/",
          "height": 1000
        }
      },
      "source": [
        "model = stepAIC_python(input_df = X, output_df = Y)"
      ],
      "execution_count": 13,
      "outputs": [
        {
          "output_type": "stream",
          "text": [
            " \n",
            " \n",
            "-------------------------- Step 0 ---------------------------\n",
            " \n",
            "-D_True. AIC :  2165.59\n",
            "-Owned. AIC :  2165.98\n",
            "-Members. AIC :  2204.54\n",
            " \n",
            "------ Result: -D_True------\n",
            " \n",
            "------- New selected:  ['Members', 'Owned']\n",
            " \n",
            " \n",
            "-------------------------- Step 1 ---------------------------\n",
            " \n",
            "-Owned. AIC :  2164.02\n",
            "+D_True. AIC :  2167.54\n",
            "-Members. AIC :  2202.7\n",
            " \n",
            "------ Result: -Owned------\n",
            " \n",
            "------- New selected:  ['Members']\n",
            " \n",
            " \n",
            "-------------------------- Step 2 ---------------------------\n",
            " \n",
            "+Owned. AIC :  2165.59\n",
            "+D_True. AIC :  2165.98\n",
            "-Members. AIC :  2201.04\n",
            " \n",
            " \n",
            "-------------------------- New Model ---------------------------\n",
            " \n",
            "                            OLS Regression Results                            \n",
            "==============================================================================\n",
            "Dep. Variable:                      Y   R-squared:                       0.177\n",
            "Model:                            OLS   Adj. R-squared:                  0.173\n",
            "Method:                 Least Squares   F-statistic:                     42.65\n",
            "Date:                Sat, 07 Nov 2020   Prob (F-statistic):           5.38e-10\n",
            "Time:                        22:16:41   Log-Likelihood:                -1080.0\n",
            "No. Observations:                 200   AIC:                             2164.\n",
            "Df Residuals:                     198   BIC:                             2171.\n",
            "Df Model:                           1                                         \n",
            "Covariance Type:            nonrobust                                         \n",
            "==============================================================================\n",
            "                 coef    std err          t      P>|t|      [0.025      0.975]\n",
            "------------------------------------------------------------------------------\n",
            "const        271.5654      8.548     31.770      0.000     254.709     288.422\n",
            "Members       16.0459      2.457      6.531      0.000      11.201      20.891\n",
            "==============================================================================\n",
            "Omnibus:                        1.292   Durbin-Watson:                   1.349\n",
            "Prob(Omnibus):                  0.524   Jarque-Bera (JB):                1.133\n",
            "Skew:                           0.184   Prob(JB):                        0.568\n",
            "Kurtosis:                       3.028   Cond. No.                         8.34\n",
            "==============================================================================\n",
            "\n",
            "Warnings:\n",
            "[1] Standard Errors assume that the covariance matrix of the errors is correctly specified.\n"
          ],
          "name": "stdout"
        },
        {
          "output_type": "display_data",
          "data": {
            "image/png": "[encoded data removed]",
            "text/plain": [
              "<Figure size 432x288 with 1 Axes>"
            ]
          },
          "metadata": {
            "tags": [],
            "needs_background": "light"
          }
        }
      ]
    }
  ]
}